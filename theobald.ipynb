{
 "cells": [
  {
   "cell_type": "code",
   "execution_count": 12,
   "metadata": {},
   "outputs": [],
   "source": [
    "import pandas as pd\n",
    "import numpy as np\n",
    "import econtools.metrics as mt\n",
    "import econtools"
   ]
  },
  {
   "cell_type": "code",
   "execution_count": 13,
   "metadata": {},
   "outputs": [
    {
     "name": "stderr",
     "output_type": "stream",
     "text": [
      "/var/folders/td/010hh4vx7gl3pcc1zz9bfdlh0000gn/T/ipykernel_34501/1857616959.py:14: SettingWithCopyWarning: \n",
      "A value is trying to be set on a copy of a slice from a DataFrame\n",
      "\n",
      "See the caveats in the documentation: https://pandas.pydata.org/pandas-docs/stable/user_guide/indexing.html#returning-a-view-versus-a-copy\n",
      "  df['avg_r_d_expenses_operating_revenue'][i] = sum / 3\n",
      "/var/folders/td/010hh4vx7gl3pcc1zz9bfdlh0000gn/T/ipykernel_34501/1857616959.py:19: SettingWithCopyWarning: \n",
      "A value is trying to be set on a copy of a slice from a DataFrame\n",
      "\n",
      "See the caveats in the documentation: https://pandas.pydata.org/pandas-docs/stable/user_guide/indexing.html#returning-a-view-versus-a-copy\n",
      "  df['avg_r_d_expenses_operating_revenue'][i] = df['r_d_expenses_operating_revenue'][i]\n",
      "/var/folders/td/010hh4vx7gl3pcc1zz9bfdlh0000gn/T/ipykernel_34501/1857616959.py:17: SettingWithCopyWarning: \n",
      "A value is trying to be set on a copy of a slice from a DataFrame\n",
      "\n",
      "See the caveats in the documentation: https://pandas.pydata.org/pandas-docs/stable/user_guide/indexing.html#returning-a-view-versus-a-copy\n",
      "  df['avg_r_d_expenses_operating_revenue'][i] = sum / 2\n"
     ]
    }
   ],
   "source": [
    "# pour acquisition 0-50, moyenne de r_d_expenses_operating_revenue \n",
    "# année en cours + 2 années après. \n",
    "# Si pas possible, moyenne sur l'année en cours et l'année suivante, ou valeur de l'anée\n",
    "\n",
    "df = pd.read_csv(\"H_target_final.csv\")\n",
    "df.sort_values(by= ['countrycode', 'closing_date'], inplace = True)\n",
    "df['avg_r_d_expenses_operating_revenue'] = 0\n",
    "for i in range(df.shape[0]-2) : \n",
    "    country = df['countrycode'][i]\n",
    "    country_N_1 = df['countrycode'][i+1]\n",
    "    country_N_2 = df['countrycode'][i+2]\n",
    "    if (country == country_N_1) and (country == country_N_2):\n",
    "        sum = df['r_d_expenses_operating_revenue'][i] + df['r_d_expenses_operating_revenue'][i+1] +  df['r_d_expenses_operating_revenue'][i+2]\n",
    "        df['avg_r_d_expenses_operating_revenue'][i] = sum / 3\n",
    "    if (country == country_N_1) and (country != country_N_2):\n",
    "        sum = df['r_d_expenses_operating_revenue'][i] + df['r_d_expenses_operating_revenue'][i+1]\n",
    "        df['avg_r_d_expenses_operating_revenue'][i] = sum / 2\n",
    "    else : \n",
    "        df['avg_r_d_expenses_operating_revenue'][i] = df['r_d_expenses_operating_revenue'][i]\n",
    "\n",
    "# pour acquisition 0-50, difference r_d_expenses_operating_revenue un an apres - année en cours\n",
    "df['diff_r_d_expenses_operating_revenue'] = 0\n",
    "for i in range(df.shape[0]-1) : \n",
    "    country = df['countrycode'][i]\n",
    "    country_N1 = df['countrycode'][i+1]\n",
    "    if country == country_N1 :\n",
    "        df['diff_r_d_expenses_operating_revenue'][i] = df['r_d_expenses_operating_revenue'][i+1] - df['r_d_expenses_operating_revenue'][i]\n",
    "    else : \n",
    "        df['diff_r_d_expenses_operating_revenue'][i] = df['r_d_expenses_operating_revenue'][i]\n"
   ]
  },
  {
   "cell_type": "code",
   "execution_count": 14,
   "metadata": {},
   "outputs": [
    {
     "name": "stdout",
     "output_type": "stream",
     "text": [
      "0.010646614827545246 0.9188458039875909\n"
     ]
    },
    {
     "data": {
      "text/html": [
       "<div>\n",
       "<style scoped>\n",
       "    .dataframe tbody tr th:only-of-type {\n",
       "        vertical-align: middle;\n",
       "    }\n",
       "\n",
       "    .dataframe tbody tr th {\n",
       "        vertical-align: top;\n",
       "    }\n",
       "\n",
       "    .dataframe thead th {\n",
       "        text-align: right;\n",
       "    }\n",
       "</style>\n",
       "<table border=\"1\" class=\"dataframe\">\n",
       "  <thead>\n",
       "    <tr style=\"text-align: right;\">\n",
       "      <th></th>\n",
       "      <th>coeff</th>\n",
       "      <th>se</th>\n",
       "      <th>t</th>\n",
       "      <th>p&gt;t</th>\n",
       "      <th>CI_low</th>\n",
       "      <th>CI_high</th>\n",
       "    </tr>\n",
       "  </thead>\n",
       "  <tbody>\n",
       "    <tr>\n",
       "      <th>Total deal value for Acquired stake (%)_0_50</th>\n",
       "      <td>-3.290989</td>\n",
       "      <td>31.894857</td>\n",
       "      <td>-0.103182</td>\n",
       "      <td>0.918846</td>\n",
       "      <td>-69.822496</td>\n",
       "      <td>63.240518</td>\n",
       "    </tr>\n",
       "  </tbody>\n",
       "</table>\n",
       "</div>"
      ],
      "text/plain": [
       "                                                 coeff         se         t  \\\n",
       "Total deal value for Acquired stake (%)_0_50 -3.290989  31.894857 -0.103182   \n",
       "\n",
       "                                                   p>t     CI_low    CI_high  \n",
       "Total deal value for Acquired stake (%)_0_50  0.918846 -69.822496  63.240518  "
      ]
     },
     "execution_count": 14,
     "metadata": {},
     "output_type": "execute_result"
    }
   ],
   "source": [
    "# regression \n",
    "\n",
    "Y = 'avg_r_d_expenses_operating_revenue'\n",
    "X = ['Total deal value for Acquired stake (%)_0_50']\n",
    "Z = ['Score-protecting minority investors']\n",
    "W = []\n",
    "fe_var = 'countrycode'\n",
    "cluster = 'countrycode'\n",
    "\n",
    "results = mt.ivreg(df, Y,X,Z,W, fe_name = fe_var, cluster=cluster)\n",
    "F1, pF1 = results.Ftest(['Total deal value for Acquired stake (%)_0_50'])\n",
    "print(F1,pF1)\n",
    "results.summary"
   ]
  },
  {
   "cell_type": "code",
   "execution_count": 15,
   "metadata": {},
   "outputs": [
    {
     "name": "stderr",
     "output_type": "stream",
     "text": [
      "/var/folders/td/010hh4vx7gl3pcc1zz9bfdlh0000gn/T/ipykernel_34501/445312472.py:9: SettingWithCopyWarning: \n",
      "A value is trying to be set on a copy of a slice from a DataFrame\n",
      "\n",
      "See the caveats in the documentation: https://pandas.pydata.org/pandas-docs/stable/user_guide/indexing.html#returning-a-view-versus-a-copy\n",
      "  df['diff_r_d_expenses_operating_revenue'][i] = df['r_d_expenses_operating_revenue'][i+1] - df['r_d_expenses_operating_revenue'][i]\n",
      "/var/folders/td/010hh4vx7gl3pcc1zz9bfdlh0000gn/T/ipykernel_34501/445312472.py:11: SettingWithCopyWarning: \n",
      "A value is trying to be set on a copy of a slice from a DataFrame\n",
      "\n",
      "See the caveats in the documentation: https://pandas.pydata.org/pandas-docs/stable/user_guide/indexing.html#returning-a-view-versus-a-copy\n",
      "  df['diff_r_d_expenses_operating_revenue'][i] = df['r_d_expenses_operating_revenue'][i]\n"
     ]
    }
   ],
   "source": [
    "# pour acquisition 0-50, difference deal value un an apres - année en cours\n",
    "df['diff_r_d_expenses_operating_revenue'] = 0\n",
    "for i in range(df.shape[0]-1) : \n",
    "    country = df['countrycode'][i]\n",
    "    country_N1 = df['countrycode'][i+1]\n",
    "    if country == country_N1 :\n",
    "        df['diff_r_d_expenses_operating_revenue'][i] = df['r_d_expenses_operating_revenue'][i+1] - df['r_d_expenses_operating_revenue'][i]\n",
    "    else : \n",
    "        df['diff_r_d_expenses_operating_revenue'][i] = df['r_d_expenses_operating_revenue'][i]"
   ]
  },
  {
   "cell_type": "code",
   "execution_count": 16,
   "metadata": {},
   "outputs": [
    {
     "name": "stdout",
     "output_type": "stream",
     "text": [
      "0.010886403627497356 0.9179404306392873\n"
     ]
    },
    {
     "data": {
      "text/html": [
       "<div>\n",
       "<style scoped>\n",
       "    .dataframe tbody tr th:only-of-type {\n",
       "        vertical-align: middle;\n",
       "    }\n",
       "\n",
       "    .dataframe tbody tr th {\n",
       "        vertical-align: top;\n",
       "    }\n",
       "\n",
       "    .dataframe thead th {\n",
       "        text-align: right;\n",
       "    }\n",
       "</style>\n",
       "<table border=\"1\" class=\"dataframe\">\n",
       "  <thead>\n",
       "    <tr style=\"text-align: right;\">\n",
       "      <th></th>\n",
       "      <th>coeff</th>\n",
       "      <th>se</th>\n",
       "      <th>t</th>\n",
       "      <th>p&gt;t</th>\n",
       "      <th>CI_low</th>\n",
       "      <th>CI_high</th>\n",
       "    </tr>\n",
       "  </thead>\n",
       "  <tbody>\n",
       "    <tr>\n",
       "      <th>Total deal value for Acquired stake (%)_0_50</th>\n",
       "      <td>-2.319534</td>\n",
       "      <td>22.230978</td>\n",
       "      <td>-0.104338</td>\n",
       "      <td>0.91794</td>\n",
       "      <td>-48.692541</td>\n",
       "      <td>44.053473</td>\n",
       "    </tr>\n",
       "  </tbody>\n",
       "</table>\n",
       "</div>"
      ],
      "text/plain": [
       "                                                 coeff         se         t  \\\n",
       "Total deal value for Acquired stake (%)_0_50 -2.319534  22.230978 -0.104338   \n",
       "\n",
       "                                                  p>t     CI_low    CI_high  \n",
       "Total deal value for Acquired stake (%)_0_50  0.91794 -48.692541  44.053473  "
      ]
     },
     "execution_count": 16,
     "metadata": {},
     "output_type": "execute_result"
    }
   ],
   "source": [
    "# regression \n",
    "\n",
    "Y = 'diff_r_d_expenses_operating_revenue'\n",
    "X = ['Total deal value for Acquired stake (%)_0_50']\n",
    "Z = ['Score-protecting minority investors']\n",
    "W = []\n",
    "fe_var = 'countrycode'\n",
    "cluster = 'countrycode'\n",
    "\n",
    "results = mt.ivreg(df, Y,X,Z,W, fe_name = fe_var, cluster=cluster)\n",
    "F1, pF1 = results.Ftest(['Total deal value for Acquired stake (%)_0_50'])\n",
    "print(F1,pF1)\n",
    "results.summary"
   ]
  },
  {
   "cell_type": "markdown",
   "metadata": {},
   "source": [
    "Avec instrumental variables ç ne marche pas du tout. Essayons OLS"
   ]
  },
  {
   "cell_type": "markdown",
   "metadata": {},
   "source": [
    "Tout d'abord en utilisant Acquired stake (%)_0_50 en endogenous variable, pour différentes valeurs de y. "
   ]
  },
  {
   "cell_type": "code",
   "execution_count": 22,
   "metadata": {},
   "outputs": [
    {
     "name": "stdout",
     "output_type": "stream",
     "text": [
      "1.0967690497689884 0.3063464003537517\n"
     ]
    },
    {
     "data": {
      "text/html": [
       "<div>\n",
       "<style scoped>\n",
       "    .dataframe tbody tr th:only-of-type {\n",
       "        vertical-align: middle;\n",
       "    }\n",
       "\n",
       "    .dataframe tbody tr th {\n",
       "        vertical-align: top;\n",
       "    }\n",
       "\n",
       "    .dataframe thead th {\n",
       "        text-align: right;\n",
       "    }\n",
       "</style>\n",
       "<table border=\"1\" class=\"dataframe\">\n",
       "  <thead>\n",
       "    <tr style=\"text-align: right;\">\n",
       "      <th></th>\n",
       "      <th>coeff</th>\n",
       "      <th>se</th>\n",
       "      <th>t</th>\n",
       "      <th>p&gt;t</th>\n",
       "      <th>CI_low</th>\n",
       "      <th>CI_high</th>\n",
       "    </tr>\n",
       "  </thead>\n",
       "  <tbody>\n",
       "    <tr>\n",
       "      <th>Acquired stake (%)_0_50</th>\n",
       "      <td>1.592174</td>\n",
       "      <td>1.520313</td>\n",
       "      <td>1.047267</td>\n",
       "      <td>0.306346</td>\n",
       "      <td>-1.560762</td>\n",
       "      <td>4.74511</td>\n",
       "    </tr>\n",
       "  </tbody>\n",
       "</table>\n",
       "</div>"
      ],
      "text/plain": [
       "                            coeff        se         t       p>t    CI_low  \\\n",
       "Acquired stake (%)_0_50  1.592174  1.520313  1.047267  0.306346 -1.560762   \n",
       "\n",
       "                         CI_high  \n",
       "Acquired stake (%)_0_50  4.74511  "
      ]
     },
     "execution_count": 22,
     "metadata": {},
     "output_type": "execute_result"
    }
   ],
   "source": [
    "# regression \n",
    "\n",
    "Y = 'diff_r_d_expenses_operating_revenue'\n",
    "X = ['Acquired stake (%)_0_50']\n",
    "Z = ['Score-protecting minority investors']\n",
    "W = []\n",
    "fe_var = 'countrycode'\n",
    "cluster = 'countrycode'\n",
    "\n",
    "results = mt.reg(df, Y,X, fe_name = fe_var, cluster=cluster)\n",
    "F1, pF1 = results.Ftest(['Acquired stake (%)_0_50'])\n",
    "print(F1,pF1)\n",
    "results.summary"
   ]
  },
  {
   "cell_type": "code",
   "execution_count": 20,
   "metadata": {},
   "outputs": [
    {
     "name": "stdout",
     "output_type": "stream",
     "text": [
      "31.70094773139742 1.162193887627172e-05\n"
     ]
    },
    {
     "data": {
      "text/html": [
       "<div>\n",
       "<style scoped>\n",
       "    .dataframe tbody tr th:only-of-type {\n",
       "        vertical-align: middle;\n",
       "    }\n",
       "\n",
       "    .dataframe tbody tr th {\n",
       "        vertical-align: top;\n",
       "    }\n",
       "\n",
       "    .dataframe thead th {\n",
       "        text-align: right;\n",
       "    }\n",
       "</style>\n",
       "<table border=\"1\" class=\"dataframe\">\n",
       "  <thead>\n",
       "    <tr style=\"text-align: right;\">\n",
       "      <th></th>\n",
       "      <th>coeff</th>\n",
       "      <th>se</th>\n",
       "      <th>t</th>\n",
       "      <th>p&gt;t</th>\n",
       "      <th>CI_low</th>\n",
       "      <th>CI_high</th>\n",
       "    </tr>\n",
       "  </thead>\n",
       "  <tbody>\n",
       "    <tr>\n",
       "      <th>Acquired stake (%)_0_50</th>\n",
       "      <td>13.884469</td>\n",
       "      <td>2.466</td>\n",
       "      <td>5.630359</td>\n",
       "      <td>0.000012</td>\n",
       "      <td>8.770297</td>\n",
       "      <td>18.99864</td>\n",
       "    </tr>\n",
       "  </tbody>\n",
       "</table>\n",
       "</div>"
      ],
      "text/plain": [
       "                             coeff     se         t       p>t    CI_low  \\\n",
       "Acquired stake (%)_0_50  13.884469  2.466  5.630359  0.000012  8.770297   \n",
       "\n",
       "                          CI_high  \n",
       "Acquired stake (%)_0_50  18.99864  "
      ]
     },
     "execution_count": 20,
     "metadata": {},
     "output_type": "execute_result"
    }
   ],
   "source": [
    "# regression \n",
    "\n",
    "Y = 'avg_r_d_expenses_operating_revenue'\n",
    "X = ['Acquired stake (%)_0_50']\n",
    "Z = ['Score-protecting minority investors']\n",
    "W = []\n",
    "fe_var = 'countrycode'\n",
    "cluster = 'countrycode'\n",
    "\n",
    "results = mt.reg(df, Y,X, fe_name = fe_var, cluster=cluster)\n",
    "F1, pF1 = results.Ftest(['Acquired stake (%)_0_50'])\n",
    "print(F1,pF1)\n",
    "results.summary"
   ]
  },
  {
   "cell_type": "code",
   "execution_count": 21,
   "metadata": {},
   "outputs": [
    {
     "name": "stdout",
     "output_type": "stream",
     "text": [
      "31.563359547040957 1.1963905452883061e-05\n"
     ]
    },
    {
     "data": {
      "text/html": [
       "<div>\n",
       "<style scoped>\n",
       "    .dataframe tbody tr th:only-of-type {\n",
       "        vertical-align: middle;\n",
       "    }\n",
       "\n",
       "    .dataframe tbody tr th {\n",
       "        vertical-align: top;\n",
       "    }\n",
       "\n",
       "    .dataframe thead th {\n",
       "        text-align: right;\n",
       "    }\n",
       "</style>\n",
       "<table border=\"1\" class=\"dataframe\">\n",
       "  <thead>\n",
       "    <tr style=\"text-align: right;\">\n",
       "      <th></th>\n",
       "      <th>coeff</th>\n",
       "      <th>se</th>\n",
       "      <th>t</th>\n",
       "      <th>p&gt;t</th>\n",
       "      <th>CI_low</th>\n",
       "      <th>CI_high</th>\n",
       "    </tr>\n",
       "  </thead>\n",
       "  <tbody>\n",
       "    <tr>\n",
       "      <th>Acquired stake (%)_0_50</th>\n",
       "      <td>13.934524</td>\n",
       "      <td>2.480279</td>\n",
       "      <td>5.618128</td>\n",
       "      <td>0.000012</td>\n",
       "      <td>8.79074</td>\n",
       "      <td>19.078307</td>\n",
       "    </tr>\n",
       "  </tbody>\n",
       "</table>\n",
       "</div>"
      ],
      "text/plain": [
       "                             coeff        se         t       p>t   CI_low  \\\n",
       "Acquired stake (%)_0_50  13.934524  2.480279  5.618128  0.000012  8.79074   \n",
       "\n",
       "                           CI_high  \n",
       "Acquired stake (%)_0_50  19.078307  "
      ]
     },
     "execution_count": 21,
     "metadata": {},
     "output_type": "execute_result"
    }
   ],
   "source": [
    "# regression \n",
    "\n",
    "Y = 'r_d_expenses_operating_revenue'\n",
    "X = ['Acquired stake (%)_0_50']\n",
    "Z = ['Score-protecting minority investors']\n",
    "W = []\n",
    "fe_var = 'countrycode'\n",
    "cluster = 'countrycode'\n",
    "\n",
    "results = mt.reg(df, Y,X, fe_name = fe_var, cluster=cluster)\n",
    "F1, pF1 = results.Ftest(['Acquired stake (%)_0_50'])\n",
    "print(F1,pF1)\n",
    "results.summary"
   ]
  },
  {
   "cell_type": "markdown",
   "metadata": {},
   "source": [
    "Puis en utilisant utilisant différents fourchettes d'Acquired stake avec un Y constant égal à avg_r_d_expenses_operating_revenue"
   ]
  },
  {
   "cell_type": "code",
   "execution_count": 47,
   "metadata": {},
   "outputs": [
    {
     "data": {
      "text/plain": [
       "\"OLS\\nsummary regression with \\nY = avg_r_d_expenses_operating_revenue\\nX=['Acquired stake (%)_0_10']\\nZ =None\\nfixed effect =countrycode\\n                             coeff        se        t       p>t    CI_low  \\\\\\nAcquired stake (%)_0_10  14.697936  2.681895  5.48043  0.000017  9.136027   \\n\\n                           CI_high  \\nAcquired stake (%)_0_10  20.259845  \\nFstat =30.035114293759182\""
      ]
     },
     "execution_count": 47,
     "metadata": {},
     "output_type": "execute_result"
    }
   ],
   "source": [
    "# regression   Acquired stake (%)_0_10\n",
    "\n",
    "Y = 'avg_r_d_expenses_operating_revenue'\n",
    "X_0_10 = ['Acquired stake (%)_0_10']\n",
    "X_10_20 = ['Acquired stake (%)_10_20']\n",
    "X_20_30 = ['Acquired stake (%)_20_30']\n",
    "X_30_40 = ['Acquired stake (%)_30_40']\n",
    "X_40_50 = ['Acquired stake (%)_40_50']\n",
    "X_0_25 = ['Acquired stake (%)_0_25']\n",
    "X_25_50 = ['Acquired stake (%)_25_50']\n",
    "X_0_50 = ['Acquired stake (%)_0_50']\n",
    "Z = ['Score-protecting minority investors']\n",
    "W = []\n",
    "fe_var = 'countrycode'\n",
    "cluster = 'countrycode'\n",
    "n = \"\\n\"\n",
    "\n",
    "def regress(df,Y,X,fe_name,cluster, method = 'OLS', Z=None, W=None):\n",
    "    if method == 'IV':\n",
    "        results = mt.ivreg(df, Y,X,Z,W, fe_name, cluster=cluster)\n",
    "    else:\n",
    "        if W == None:\n",
    "            results = mt.reg(df, Y,X, fe_name, cluster=cluster)\n",
    "        else :\n",
    "            results = mt.reg(df, Y,X,W, fe_name, cluster=cluster)\n",
    "    F1, pF1 = results.Ftest(X)\n",
    "    res = f'{method}' + '\\n' + 'summary regression with \\nY = ' + f'{Y}' + '\\n' + 'X=' + f'{X}' + '\\n' + 'Z =' + f'{Z}'+'\\n' +  'fixed effect =' + f'{fe_var}' + '\\n' + f'{results.summary}' + '\\n' +  'Fstat =' + f'{F1}'\n",
    "    return res\n",
    "\n",
    "\n",
    "regress(df, Y, X_0_10,fe_var, cluster)\n",
    "\n"
   ]
  },
  {
   "cell_type": "code",
   "execution_count": 43,
   "metadata": {},
   "outputs": [
    {
     "data": {
      "text/plain": [
       "Index(['countrycode', 'closing_date', 'ebitda',\n",
       "       'r_d_expenses_operating_revenue', 'research_development_expenses',\n",
       "       'number_of_employees', 'Deal value\\nm EUR', 'Acquired stake (%)_0_10',\n",
       "       'Acquired stake (%)_10_20', 'Acquired stake (%)_20_30',\n",
       "       'Acquired stake (%)_30_40', 'Acquired stake (%)_40_50',\n",
       "       'Acquired stake (%)_0_25', 'Acquired stake (%)_25_50',\n",
       "       'Acquired stake (%)_0_50',\n",
       "       'Total deal value for Acquired stake (%)0_10',\n",
       "       'Total deal value for Acquired stake (%)_10_20',\n",
       "       'Total deal value for Acquired stake (%)_20_30',\n",
       "       'Total deal value for Acquired stake (%)_30_40',\n",
       "       'Total deal value for Acquired stake (%)_40_50',\n",
       "       'Total deal value for Acquired stake (%)_0_25',\n",
       "       'Total deal value for Acquired stake (%)_25_50',\n",
       "       'Total deal value for Acquired stake (%)_0_50', 'Final stake (%)_0_10',\n",
       "       'Final stake (%)_10_20', 'Final stake (%)_20_30',\n",
       "       'Final stake (%)_30_40', 'Final stake (%)_40_50',\n",
       "       'Final stake (%)_0_25', 'Final stake (%)_25_50',\n",
       "       'Score-protecting minority investors', 'Reform', 'is_reform',\n",
       "       'avg_r_d_expenses_operating_revenue',\n",
       "       'diff_r_d_expenses_operating_revenue'],\n",
       "      dtype='object')"
      ]
     },
     "execution_count": 43,
     "metadata": {},
     "output_type": "execute_result"
    }
   ],
   "source": [
    "df.columns"
   ]
  },
  {
   "cell_type": "code",
   "execution_count": null,
   "metadata": {},
   "outputs": [],
   "source": []
  }
 ],
 "metadata": {
  "kernelspec": {
   "display_name": "Python 3.9.12 ('base')",
   "language": "python",
   "name": "python3"
  },
  "language_info": {
   "codemirror_mode": {
    "name": "ipython",
    "version": 3
   },
   "file_extension": ".py",
   "mimetype": "text/x-python",
   "name": "python",
   "nbconvert_exporter": "python",
   "pygments_lexer": "ipython3",
   "version": "3.9.12"
  },
  "orig_nbformat": 4,
  "vscode": {
   "interpreter": {
    "hash": "3d597f4c481aa0f25dceb95d2a0067e73c0966dcbd003d741d821a7208527ecf"
   }
  }
 },
 "nbformat": 4,
 "nbformat_minor": 2
}
