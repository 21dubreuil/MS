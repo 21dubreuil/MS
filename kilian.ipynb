{
 "cells": [
  {
   "cell_type": "code",
   "execution_count": 15,
   "metadata": {},
   "outputs": [],
   "source": [
    "import pandas as pd\n",
    "import econtools.metrics as mt\n",
    "import econtools\n",
    "import numpy as np"
   ]
  },
  {
   "cell_type": "code",
   "execution_count": 21,
   "metadata": {},
   "outputs": [],
   "source": [
    "df = pd.read_csv(\"H_target_final.csv\")"
   ]
  },
  {
   "cell_type": "code",
   "execution_count": 22,
   "metadata": {},
   "outputs": [],
   "source": [
    "#Transform Nan into 0 and True into 1\n",
    "df[\"is_reform\"] = df[\"is_reform\"].fillna(0)\n",
    "df[\"is_reform\"] = df[\"is_reform\"].apply(lambda x : int(x))"
   ]
  },
  {
   "cell_type": "code",
   "execution_count": 23,
   "metadata": {},
   "outputs": [
    {
     "name": "stderr",
     "output_type": "stream",
     "text": [
      "C:\\Users\\KP519\\AppData\\Local\\Temp/ipykernel_19156/3404922727.py:13: SettingWithCopyWarning: \n",
      "A value is trying to be set on a copy of a slice from a DataFrame\n",
      "\n",
      "See the caveats in the documentation: https://pandas.pydata.org/pandas-docs/stable/user_guide/indexing.html#returning-a-view-versus-a-copy\n",
      "  df['avg_r_d_expenses_operating_revenue'][i] = sum / 3\n",
      "C:\\Users\\KP519\\AppData\\Local\\Temp/ipykernel_19156/3404922727.py:18: SettingWithCopyWarning: \n",
      "A value is trying to be set on a copy of a slice from a DataFrame\n",
      "\n",
      "See the caveats in the documentation: https://pandas.pydata.org/pandas-docs/stable/user_guide/indexing.html#returning-a-view-versus-a-copy\n",
      "  df['avg_r_d_expenses_operating_revenue'][i] = df['r_d_expenses_operating_revenue'][i]\n",
      "C:\\Users\\KP519\\AppData\\Local\\Temp/ipykernel_19156/3404922727.py:16: SettingWithCopyWarning: \n",
      "A value is trying to be set on a copy of a slice from a DataFrame\n",
      "\n",
      "See the caveats in the documentation: https://pandas.pydata.org/pandas-docs/stable/user_guide/indexing.html#returning-a-view-versus-a-copy\n",
      "  df['avg_r_d_expenses_operating_revenue'][i] = sum / 2\n",
      "C:\\Users\\KP519\\AppData\\Local\\Temp/ipykernel_19156/3404922727.py:26: SettingWithCopyWarning: \n",
      "A value is trying to be set on a copy of a slice from a DataFrame\n",
      "\n",
      "See the caveats in the documentation: https://pandas.pydata.org/pandas-docs/stable/user_guide/indexing.html#returning-a-view-versus-a-copy\n",
      "  df['diff_r_d_expenses_operating_revenue'][i] = df['r_d_expenses_operating_revenue'][i+1] - df['r_d_expenses_operating_revenue'][i]\n",
      "C:\\Users\\KP519\\AppData\\Local\\Temp/ipykernel_19156/3404922727.py:28: SettingWithCopyWarning: \n",
      "A value is trying to be set on a copy of a slice from a DataFrame\n",
      "\n",
      "See the caveats in the documentation: https://pandas.pydata.org/pandas-docs/stable/user_guide/indexing.html#returning-a-view-versus-a-copy\n",
      "  df['diff_r_d_expenses_operating_revenue'][i] = df['r_d_expenses_operating_revenue'][i]\n"
     ]
    }
   ],
   "source": [
    "# pour acquisition 0-50, moyenne de r_d_expenses_operating_revenue \n",
    "# année en cours + 2 années après. \n",
    "# Si pas possible, moyenne sur l'année en cours et l'année suivante, ou valeur de l'anée\n",
    "\n",
    "df.sort_values(by= ['countrycode', 'closing_date'], inplace = True)\n",
    "df['avg_r_d_expenses_operating_revenue'] = 0\n",
    "for i in range(df.shape[0]-2) : \n",
    "    country = df['countrycode'][i]\n",
    "    country_N_1 = df['countrycode'][i+1]\n",
    "    country_N_2 = df['countrycode'][i+2]\n",
    "    if (country == country_N_1) and (country == country_N_2):\n",
    "        sum = df['r_d_expenses_operating_revenue'][i] + df['r_d_expenses_operating_revenue'][i+1] +  df['r_d_expenses_operating_revenue'][i+2]\n",
    "        df['avg_r_d_expenses_operating_revenue'][i] = sum / 3\n",
    "    if (country == country_N_1) and (country != country_N_2):\n",
    "        sum = df['r_d_expenses_operating_revenue'][i] + df['r_d_expenses_operating_revenue'][i+1]\n",
    "        df['avg_r_d_expenses_operating_revenue'][i] = sum / 2\n",
    "    else : \n",
    "        df['avg_r_d_expenses_operating_revenue'][i] = df['r_d_expenses_operating_revenue'][i]\n",
    "\n",
    "# pour acquisition 0-50, difference r_d_expenses_operating_revenue un an apres - année en cours\n",
    "df['diff_r_d_expenses_operating_revenue'] = 0\n",
    "for i in range(df.shape[0]-1) : \n",
    "    country = df['countrycode'][i]\n",
    "    country_N1 = df['countrycode'][i+1]\n",
    "    if country == country_N1 :\n",
    "        df['diff_r_d_expenses_operating_revenue'][i] = df['r_d_expenses_operating_revenue'][i+1] - df['r_d_expenses_operating_revenue'][i]\n",
    "    else : \n",
    "        df['diff_r_d_expenses_operating_revenue'][i] = df['r_d_expenses_operating_revenue'][i]\n"
   ]
  },
  {
   "cell_type": "markdown",
   "metadata": {},
   "source": [
    "**IV = score and Y = diff**"
   ]
  },
  {
   "cell_type": "code",
   "execution_count": 126,
   "metadata": {},
   "outputs": [
    {
     "name": "stdout",
     "output_type": "stream",
     "text": [
      "0.08520328757949094 0.7733723671214396\n"
     ]
    },
    {
     "data": {
      "text/html": [
       "<div>\n",
       "<style scoped>\n",
       "    .dataframe tbody tr th:only-of-type {\n",
       "        vertical-align: middle;\n",
       "    }\n",
       "\n",
       "    .dataframe tbody tr th {\n",
       "        vertical-align: top;\n",
       "    }\n",
       "\n",
       "    .dataframe thead th {\n",
       "        text-align: right;\n",
       "    }\n",
       "</style>\n",
       "<table border=\"1\" class=\"dataframe\">\n",
       "  <thead>\n",
       "    <tr style=\"text-align: right;\">\n",
       "      <th></th>\n",
       "      <th>coeff</th>\n",
       "      <th>se</th>\n",
       "      <th>t</th>\n",
       "      <th>p&gt;t</th>\n",
       "      <th>CI_low</th>\n",
       "      <th>CI_high</th>\n",
       "    </tr>\n",
       "  </thead>\n",
       "  <tbody>\n",
       "    <tr>\n",
       "      <th>Acquired stake (%)_0_10</th>\n",
       "      <td>71.384078</td>\n",
       "      <td>244.553104</td>\n",
       "      <td>0.291896</td>\n",
       "      <td>0.773372</td>\n",
       "      <td>-438.744757</td>\n",
       "      <td>581.512913</td>\n",
       "    </tr>\n",
       "  </tbody>\n",
       "</table>\n",
       "</div>"
      ],
      "text/plain": [
       "                             coeff          se         t       p>t  \\\n",
       "Acquired stake (%)_0_10  71.384078  244.553104  0.291896  0.773372   \n",
       "\n",
       "                             CI_low     CI_high  \n",
       "Acquired stake (%)_0_10 -438.744757  581.512913  "
      ]
     },
     "execution_count": 126,
     "metadata": {},
     "output_type": "execute_result"
    }
   ],
   "source": [
    "# 0-10\n",
    "Y = 'diff_r_d_expenses_operating_revenue'\n",
    "X = ['Acquired stake (%)_0_10']\n",
    "Z = ['Score-protecting minority investors']\n",
    "W = []\n",
    "fe_var = 'countrycode'\n",
    "cluster = 'countrycode'\n",
    "\n",
    "results = mt.ivreg(df, Y,X,Z,W, fe_name = fe_var, cluster=cluster)\n",
    "F1, pF1 = results.Ftest(['Acquired stake (%)_0_10'])\n",
    "print(F1,pF1)\n",
    "results.summary"
   ]
  },
  {
   "cell_type": "code",
   "execution_count": 127,
   "metadata": {},
   "outputs": [
    {
     "name": "stdout",
     "output_type": "stream",
     "text": [
      "0.004376968230891643 0.9479083876145946\n"
     ]
    },
    {
     "data": {
      "text/html": [
       "<div>\n",
       "<style scoped>\n",
       "    .dataframe tbody tr th:only-of-type {\n",
       "        vertical-align: middle;\n",
       "    }\n",
       "\n",
       "    .dataframe tbody tr th {\n",
       "        vertical-align: top;\n",
       "    }\n",
       "\n",
       "    .dataframe thead th {\n",
       "        text-align: right;\n",
       "    }\n",
       "</style>\n",
       "<table border=\"1\" class=\"dataframe\">\n",
       "  <thead>\n",
       "    <tr style=\"text-align: right;\">\n",
       "      <th></th>\n",
       "      <th>coeff</th>\n",
       "      <th>se</th>\n",
       "      <th>t</th>\n",
       "      <th>p&gt;t</th>\n",
       "      <th>CI_low</th>\n",
       "      <th>CI_high</th>\n",
       "    </tr>\n",
       "  </thead>\n",
       "  <tbody>\n",
       "    <tr>\n",
       "      <th>Acquired stake (%)_10_20</th>\n",
       "      <td>-3338.884986</td>\n",
       "      <td>50467.845167</td>\n",
       "      <td>-0.066159</td>\n",
       "      <td>0.947908</td>\n",
       "      <td>-108612.965267</td>\n",
       "      <td>101935.195296</td>\n",
       "    </tr>\n",
       "  </tbody>\n",
       "</table>\n",
       "</div>"
      ],
      "text/plain": [
       "                                coeff            se         t       p>t  \\\n",
       "Acquired stake (%)_10_20 -3338.884986  50467.845167 -0.066159  0.947908   \n",
       "\n",
       "                                 CI_low        CI_high  \n",
       "Acquired stake (%)_10_20 -108612.965267  101935.195296  "
      ]
     },
     "execution_count": 127,
     "metadata": {},
     "output_type": "execute_result"
    }
   ],
   "source": [
    "# 10-20\n",
    "Y = 'diff_r_d_expenses_operating_revenue'\n",
    "X = ['Acquired stake (%)_10_20']\n",
    "Z = ['Score-protecting minority investors']\n",
    "W = []\n",
    "fe_var = 'countrycode'\n",
    "cluster = 'countrycode'\n",
    "\n",
    "results = mt.ivreg(df, Y,X,Z,W, fe_name = fe_var, cluster=cluster)\n",
    "F1, pF1 = results.Ftest(['Acquired stake (%)_10_20'])\n",
    "print(F1,pF1)\n",
    "results.summary"
   ]
  },
  {
   "cell_type": "code",
   "execution_count": 129,
   "metadata": {},
   "outputs": [
    {
     "name": "stdout",
     "output_type": "stream",
     "text": [
      "0.35334654034106755 0.5588899750891643\n"
     ]
    },
    {
     "data": {
      "text/html": [
       "<div>\n",
       "<style scoped>\n",
       "    .dataframe tbody tr th:only-of-type {\n",
       "        vertical-align: middle;\n",
       "    }\n",
       "\n",
       "    .dataframe tbody tr th {\n",
       "        vertical-align: top;\n",
       "    }\n",
       "\n",
       "    .dataframe thead th {\n",
       "        text-align: right;\n",
       "    }\n",
       "</style>\n",
       "<table border=\"1\" class=\"dataframe\">\n",
       "  <thead>\n",
       "    <tr style=\"text-align: right;\">\n",
       "      <th></th>\n",
       "      <th>coeff</th>\n",
       "      <th>se</th>\n",
       "      <th>t</th>\n",
       "      <th>p&gt;t</th>\n",
       "      <th>CI_low</th>\n",
       "      <th>CI_high</th>\n",
       "    </tr>\n",
       "  </thead>\n",
       "  <tbody>\n",
       "    <tr>\n",
       "      <th>Acquired stake (%)_20_30</th>\n",
       "      <td>-308.946767</td>\n",
       "      <td>519.736518</td>\n",
       "      <td>-0.59443</td>\n",
       "      <td>0.55889</td>\n",
       "      <td>-1393.098145</td>\n",
       "      <td>775.204612</td>\n",
       "    </tr>\n",
       "  </tbody>\n",
       "</table>\n",
       "</div>"
      ],
      "text/plain": [
       "                               coeff          se        t      p>t  \\\n",
       "Acquired stake (%)_20_30 -308.946767  519.736518 -0.59443  0.55889   \n",
       "\n",
       "                               CI_low     CI_high  \n",
       "Acquired stake (%)_20_30 -1393.098145  775.204612  "
      ]
     },
     "execution_count": 129,
     "metadata": {},
     "output_type": "execute_result"
    }
   ],
   "source": [
    "# 20-30\n",
    "Y = 'diff_r_d_expenses_operating_revenue'\n",
    "X = ['Acquired stake (%)_20_30']\n",
    "Z = ['Score-protecting minority investors']\n",
    "W = []\n",
    "fe_var = 'countrycode'\n",
    "cluster = 'countrycode'\n",
    "\n",
    "results = mt.ivreg(df, Y,X,Z,W, fe_name = fe_var, cluster=cluster)\n",
    "F1, pF1 = results.Ftest(['Acquired stake (%)_20_30'])\n",
    "print(F1,pF1)\n",
    "results.summary"
   ]
  },
  {
   "cell_type": "code",
   "execution_count": 130,
   "metadata": {},
   "outputs": [
    {
     "name": "stdout",
     "output_type": "stream",
     "text": [
      "0.4408007902021151 0.5143178948569491\n"
     ]
    },
    {
     "data": {
      "text/html": [
       "<div>\n",
       "<style scoped>\n",
       "    .dataframe tbody tr th:only-of-type {\n",
       "        vertical-align: middle;\n",
       "    }\n",
       "\n",
       "    .dataframe tbody tr th {\n",
       "        vertical-align: top;\n",
       "    }\n",
       "\n",
       "    .dataframe thead th {\n",
       "        text-align: right;\n",
       "    }\n",
       "</style>\n",
       "<table border=\"1\" class=\"dataframe\">\n",
       "  <thead>\n",
       "    <tr style=\"text-align: right;\">\n",
       "      <th></th>\n",
       "      <th>coeff</th>\n",
       "      <th>se</th>\n",
       "      <th>t</th>\n",
       "      <th>p&gt;t</th>\n",
       "      <th>CI_low</th>\n",
       "      <th>CI_high</th>\n",
       "    </tr>\n",
       "  </thead>\n",
       "  <tbody>\n",
       "    <tr>\n",
       "      <th>Acquired stake (%)_30_40</th>\n",
       "      <td>658.775273</td>\n",
       "      <td>992.238576</td>\n",
       "      <td>0.663928</td>\n",
       "      <td>0.514318</td>\n",
       "      <td>-1410.998127</td>\n",
       "      <td>2728.548672</td>\n",
       "    </tr>\n",
       "  </tbody>\n",
       "</table>\n",
       "</div>"
      ],
      "text/plain": [
       "                               coeff          se         t       p>t  \\\n",
       "Acquired stake (%)_30_40  658.775273  992.238576  0.663928  0.514318   \n",
       "\n",
       "                               CI_low      CI_high  \n",
       "Acquired stake (%)_30_40 -1410.998127  2728.548672  "
      ]
     },
     "execution_count": 130,
     "metadata": {},
     "output_type": "execute_result"
    }
   ],
   "source": [
    "# 30-40\n",
    "Y = 'diff_r_d_expenses_operating_revenue'\n",
    "X = ['Acquired stake (%)_30_40']\n",
    "Z = ['Score-protecting minority investors']\n",
    "W = []\n",
    "fe_var = 'countrycode'\n",
    "cluster = 'countrycode'\n",
    "\n",
    "results = mt.ivreg(df, Y,X,Z,W, fe_name = fe_var, cluster=cluster)\n",
    "F1, pF1 = results.Ftest(['Acquired stake (%)_30_40'])\n",
    "print(F1,pF1)\n",
    "results.summary"
   ]
  },
  {
   "cell_type": "code",
   "execution_count": 26,
   "metadata": {},
   "outputs": [
    {
     "name": "stdout",
     "output_type": "stream",
     "text": [
      "0.000347598809564024 0.9853098456612273\n"
     ]
    },
    {
     "data": {
      "text/html": [
       "<div>\n",
       "<style scoped>\n",
       "    .dataframe tbody tr th:only-of-type {\n",
       "        vertical-align: middle;\n",
       "    }\n",
       "\n",
       "    .dataframe tbody tr th {\n",
       "        vertical-align: top;\n",
       "    }\n",
       "\n",
       "    .dataframe thead th {\n",
       "        text-align: right;\n",
       "    }\n",
       "</style>\n",
       "<table border=\"1\" class=\"dataframe\">\n",
       "  <thead>\n",
       "    <tr style=\"text-align: right;\">\n",
       "      <th></th>\n",
       "      <th>coeff</th>\n",
       "      <th>se</th>\n",
       "      <th>t</th>\n",
       "      <th>p&gt;t</th>\n",
       "      <th>CI_low</th>\n",
       "      <th>CI_high</th>\n",
       "    </tr>\n",
       "  </thead>\n",
       "  <tbody>\n",
       "    <tr>\n",
       "      <th>Acquired stake (%)_40_50</th>\n",
       "      <td>31943.496448</td>\n",
       "      <td>1.713339e+06</td>\n",
       "      <td>0.018644</td>\n",
       "      <td>0.98531</td>\n",
       "      <td>-3.542019e+06</td>\n",
       "      <td>3.605906e+06</td>\n",
       "    </tr>\n",
       "  </tbody>\n",
       "</table>\n",
       "</div>"
      ],
      "text/plain": [
       "                                 coeff            se         t      p>t  \\\n",
       "Acquired stake (%)_40_50  31943.496448  1.713339e+06  0.018644  0.98531   \n",
       "\n",
       "                                CI_low       CI_high  \n",
       "Acquired stake (%)_40_50 -3.542019e+06  3.605906e+06  "
      ]
     },
     "execution_count": 26,
     "metadata": {},
     "output_type": "execute_result"
    }
   ],
   "source": [
    "# 40-50\n",
    "Y = 'diff_r_d_expenses_operating_revenue'\n",
    "X = ['Acquired stake (%)_40_50']\n",
    "Z = ['Score-protecting minority investors']\n",
    "W = []\n",
    "fe_var = 'countrycode'\n",
    "cluster = 'countrycode'\n",
    "\n",
    "results = mt.ivreg(df, Y,X,Z,W, fe_name = fe_var, cluster=cluster)\n",
    "F1, pF1 = results.Ftest(['Acquired stake (%)_40_50'])\n",
    "print(F1,pF1)\n",
    "results.summary"
   ]
  },
  {
   "cell_type": "markdown",
   "metadata": {},
   "source": [
    "**IV = score and Y = mean**"
   ]
  },
  {
   "cell_type": "code",
   "execution_count": 134,
   "metadata": {},
   "outputs": [
    {
     "name": "stdout",
     "output_type": "stream",
     "text": [
      "0.0948262865060471 0.7613129887900916\n"
     ]
    },
    {
     "data": {
      "text/html": [
       "<div>\n",
       "<style scoped>\n",
       "    .dataframe tbody tr th:only-of-type {\n",
       "        vertical-align: middle;\n",
       "    }\n",
       "\n",
       "    .dataframe tbody tr th {\n",
       "        vertical-align: top;\n",
       "    }\n",
       "\n",
       "    .dataframe thead th {\n",
       "        text-align: right;\n",
       "    }\n",
       "</style>\n",
       "<table border=\"1\" class=\"dataframe\">\n",
       "  <thead>\n",
       "    <tr style=\"text-align: right;\">\n",
       "      <th></th>\n",
       "      <th>coeff</th>\n",
       "      <th>se</th>\n",
       "      <th>t</th>\n",
       "      <th>p&gt;t</th>\n",
       "      <th>CI_low</th>\n",
       "      <th>CI_high</th>\n",
       "    </tr>\n",
       "  </thead>\n",
       "  <tbody>\n",
       "    <tr>\n",
       "      <th>Acquired stake (%)_0_10</th>\n",
       "      <td>101.280774</td>\n",
       "      <td>328.899064</td>\n",
       "      <td>0.307939</td>\n",
       "      <td>0.761313</td>\n",
       "      <td>-584.790653</td>\n",
       "      <td>787.3522</td>\n",
       "    </tr>\n",
       "  </tbody>\n",
       "</table>\n",
       "</div>"
      ],
      "text/plain": [
       "                              coeff          se         t       p>t  \\\n",
       "Acquired stake (%)_0_10  101.280774  328.899064  0.307939  0.761313   \n",
       "\n",
       "                             CI_low   CI_high  \n",
       "Acquired stake (%)_0_10 -584.790653  787.3522  "
      ]
     },
     "execution_count": 134,
     "metadata": {},
     "output_type": "execute_result"
    }
   ],
   "source": [
    "# 0-10\n",
    "Y = 'avg_r_d_expenses_operating_revenue'\n",
    "X = ['Acquired stake (%)_0_10']\n",
    "Z = ['Score-protecting minority investors']\n",
    "W = []\n",
    "fe_var = 'countrycode'\n",
    "cluster = 'countrycode'\n",
    "\n",
    "results = mt.ivreg(df, Y,X,Z,W, fe_name = fe_var, cluster=cluster)\n",
    "F1, pF1 = results.Ftest(['Acquired stake (%)_0_10'])\n",
    "print(F1,pF1)\n",
    "results.summary"
   ]
  },
  {
   "cell_type": "code",
   "execution_count": 135,
   "metadata": {},
   "outputs": [
    {
     "name": "stdout",
     "output_type": "stream",
     "text": [
      "0.00425767458150225 0.9486220945304171\n"
     ]
    },
    {
     "data": {
      "text/html": [
       "<div>\n",
       "<style scoped>\n",
       "    .dataframe tbody tr th:only-of-type {\n",
       "        vertical-align: middle;\n",
       "    }\n",
       "\n",
       "    .dataframe tbody tr th {\n",
       "        vertical-align: top;\n",
       "    }\n",
       "\n",
       "    .dataframe thead th {\n",
       "        text-align: right;\n",
       "    }\n",
       "</style>\n",
       "<table border=\"1\" class=\"dataframe\">\n",
       "  <thead>\n",
       "    <tr style=\"text-align: right;\">\n",
       "      <th></th>\n",
       "      <th>coeff</th>\n",
       "      <th>se</th>\n",
       "      <th>t</th>\n",
       "      <th>p&gt;t</th>\n",
       "      <th>CI_low</th>\n",
       "      <th>CI_high</th>\n",
       "    </tr>\n",
       "  </thead>\n",
       "  <tbody>\n",
       "    <tr>\n",
       "      <th>Acquired stake (%)_10_20</th>\n",
       "      <td>-4737.258832</td>\n",
       "      <td>72600.712312</td>\n",
       "      <td>-0.065251</td>\n",
       "      <td>0.948622</td>\n",
       "      <td>-156179.690961</td>\n",
       "      <td>146705.173297</td>\n",
       "    </tr>\n",
       "  </tbody>\n",
       "</table>\n",
       "</div>"
      ],
      "text/plain": [
       "                                coeff            se         t       p>t  \\\n",
       "Acquired stake (%)_10_20 -4737.258832  72600.712312 -0.065251  0.948622   \n",
       "\n",
       "                                 CI_low        CI_high  \n",
       "Acquired stake (%)_10_20 -156179.690961  146705.173297  "
      ]
     },
     "execution_count": 135,
     "metadata": {},
     "output_type": "execute_result"
    }
   ],
   "source": [
    "# 10-20\n",
    "Y = 'avg_r_d_expenses_operating_revenue'\n",
    "X = ['Acquired stake (%)_10_20']\n",
    "Z = ['Score-protecting minority investors']\n",
    "W = []\n",
    "fe_var = 'countrycode'\n",
    "cluster = 'countrycode'\n",
    "\n",
    "results = mt.ivreg(df, Y,X,Z,W, fe_name = fe_var, cluster=cluster)\n",
    "F1, pF1 = results.Ftest(['Acquired stake (%)_10_20'])\n",
    "print(F1,pF1)\n",
    "results.summary"
   ]
  },
  {
   "cell_type": "code",
   "execution_count": 136,
   "metadata": {},
   "outputs": [
    {
     "name": "stdout",
     "output_type": "stream",
     "text": [
      "0.29975931581104315 0.5900916399845715\n"
     ]
    },
    {
     "data": {
      "text/html": [
       "<div>\n",
       "<style scoped>\n",
       "    .dataframe tbody tr th:only-of-type {\n",
       "        vertical-align: middle;\n",
       "    }\n",
       "\n",
       "    .dataframe tbody tr th {\n",
       "        vertical-align: top;\n",
       "    }\n",
       "\n",
       "    .dataframe thead th {\n",
       "        text-align: right;\n",
       "    }\n",
       "</style>\n",
       "<table border=\"1\" class=\"dataframe\">\n",
       "  <thead>\n",
       "    <tr style=\"text-align: right;\">\n",
       "      <th></th>\n",
       "      <th>coeff</th>\n",
       "      <th>se</th>\n",
       "      <th>t</th>\n",
       "      <th>p&gt;t</th>\n",
       "      <th>CI_low</th>\n",
       "      <th>CI_high</th>\n",
       "    </tr>\n",
       "  </thead>\n",
       "  <tbody>\n",
       "    <tr>\n",
       "      <th>Acquired stake (%)_20_30</th>\n",
       "      <td>-438.338189</td>\n",
       "      <td>800.613603</td>\n",
       "      <td>-0.547503</td>\n",
       "      <td>0.590092</td>\n",
       "      <td>-2108.3889</td>\n",
       "      <td>1231.712522</td>\n",
       "    </tr>\n",
       "  </tbody>\n",
       "</table>\n",
       "</div>"
      ],
      "text/plain": [
       "                               coeff          se         t       p>t  \\\n",
       "Acquired stake (%)_20_30 -438.338189  800.613603 -0.547503  0.590092   \n",
       "\n",
       "                             CI_low      CI_high  \n",
       "Acquired stake (%)_20_30 -2108.3889  1231.712522  "
      ]
     },
     "execution_count": 136,
     "metadata": {},
     "output_type": "execute_result"
    }
   ],
   "source": [
    "# 20-30\n",
    "Y = 'avg_r_d_expenses_operating_revenue'\n",
    "X = ['Acquired stake (%)_20_30']\n",
    "Z = ['Score-protecting minority investors']\n",
    "W = []\n",
    "fe_var = 'countrycode'\n",
    "cluster = 'countrycode'\n",
    "\n",
    "results = mt.ivreg(df, Y,X,Z,W, fe_name = fe_var, cluster=cluster)\n",
    "F1, pF1 = results.Ftest(['Acquired stake (%)_20_30'])\n",
    "print(F1,pF1)\n",
    "results.summary"
   ]
  },
  {
   "cell_type": "code",
   "execution_count": 137,
   "metadata": {},
   "outputs": [
    {
     "name": "stdout",
     "output_type": "stream",
     "text": [
      "0.44780159281701376 0.5110323795145161\n"
     ]
    },
    {
     "data": {
      "text/html": [
       "<div>\n",
       "<style scoped>\n",
       "    .dataframe tbody tr th:only-of-type {\n",
       "        vertical-align: middle;\n",
       "    }\n",
       "\n",
       "    .dataframe tbody tr th {\n",
       "        vertical-align: top;\n",
       "    }\n",
       "\n",
       "    .dataframe thead th {\n",
       "        text-align: right;\n",
       "    }\n",
       "</style>\n",
       "<table border=\"1\" class=\"dataframe\">\n",
       "  <thead>\n",
       "    <tr style=\"text-align: right;\">\n",
       "      <th></th>\n",
       "      <th>coeff</th>\n",
       "      <th>se</th>\n",
       "      <th>t</th>\n",
       "      <th>p&gt;t</th>\n",
       "      <th>CI_low</th>\n",
       "      <th>CI_high</th>\n",
       "    </tr>\n",
       "  </thead>\n",
       "  <tbody>\n",
       "    <tr>\n",
       "      <th>Acquired stake (%)_30_40</th>\n",
       "      <td>934.679988</td>\n",
       "      <td>1396.754655</td>\n",
       "      <td>0.66918</td>\n",
       "      <td>0.511032</td>\n",
       "      <td>-1978.899166</td>\n",
       "      <td>3848.259143</td>\n",
       "    </tr>\n",
       "  </tbody>\n",
       "</table>\n",
       "</div>"
      ],
      "text/plain": [
       "                               coeff           se        t       p>t  \\\n",
       "Acquired stake (%)_30_40  934.679988  1396.754655  0.66918  0.511032   \n",
       "\n",
       "                               CI_low      CI_high  \n",
       "Acquired stake (%)_30_40 -1978.899166  3848.259143  "
      ]
     },
     "execution_count": 137,
     "metadata": {},
     "output_type": "execute_result"
    }
   ],
   "source": [
    "# 30-40\n",
    "Y = 'avg_r_d_expenses_operating_revenue'\n",
    "X = ['Acquired stake (%)_30_40']\n",
    "Z = ['Score-protecting minority investors']\n",
    "W = []\n",
    "fe_var = 'countrycode'\n",
    "cluster = 'countrycode'\n",
    "\n",
    "results = mt.ivreg(df, Y,X,Z,W, fe_name = fe_var, cluster=cluster)\n",
    "F1, pF1 = results.Ftest(['Acquired stake (%)_30_40'])\n",
    "print(F1,pF1)\n",
    "results.summary"
   ]
  },
  {
   "cell_type": "code",
   "execution_count": 138,
   "metadata": {},
   "outputs": [
    {
     "name": "stdout",
     "output_type": "stream",
     "text": [
      "0.00034802469304629196 0.9853008502084246\n"
     ]
    },
    {
     "data": {
      "text/html": [
       "<div>\n",
       "<style scoped>\n",
       "    .dataframe tbody tr th:only-of-type {\n",
       "        vertical-align: middle;\n",
       "    }\n",
       "\n",
       "    .dataframe tbody tr th {\n",
       "        vertical-align: top;\n",
       "    }\n",
       "\n",
       "    .dataframe thead th {\n",
       "        text-align: right;\n",
       "    }\n",
       "</style>\n",
       "<table border=\"1\" class=\"dataframe\">\n",
       "  <thead>\n",
       "    <tr style=\"text-align: right;\">\n",
       "      <th></th>\n",
       "      <th>coeff</th>\n",
       "      <th>se</th>\n",
       "      <th>t</th>\n",
       "      <th>p&gt;t</th>\n",
       "      <th>CI_low</th>\n",
       "      <th>CI_high</th>\n",
       "    </tr>\n",
       "  </thead>\n",
       "  <tbody>\n",
       "    <tr>\n",
       "      <th>Acquired stake (%)_40_50</th>\n",
       "      <td>45321.899772</td>\n",
       "      <td>2.429423e+06</td>\n",
       "      <td>0.018655</td>\n",
       "      <td>0.985301</td>\n",
       "      <td>-5.022365e+06</td>\n",
       "      <td>5.113009e+06</td>\n",
       "    </tr>\n",
       "  </tbody>\n",
       "</table>\n",
       "</div>"
      ],
      "text/plain": [
       "                                 coeff            se         t       p>t  \\\n",
       "Acquired stake (%)_40_50  45321.899772  2.429423e+06  0.018655  0.985301   \n",
       "\n",
       "                                CI_low       CI_high  \n",
       "Acquired stake (%)_40_50 -5.022365e+06  5.113009e+06  "
      ]
     },
     "execution_count": 138,
     "metadata": {},
     "output_type": "execute_result"
    }
   ],
   "source": [
    "# 40-50\n",
    "Y = 'avg_r_d_expenses_operating_revenue'\n",
    "X = ['Acquired stake (%)_40_50']\n",
    "Z = ['Score-protecting minority investors']\n",
    "W = []\n",
    "fe_var = 'countrycode'\n",
    "cluster = 'countrycode'\n",
    "\n",
    "results = mt.ivreg(df, Y,X,Z,W, fe_name = fe_var, cluster=cluster)\n",
    "F1, pF1 = results.Ftest(['Acquired stake (%)_40_50'])\n",
    "print(F1,pF1)\n",
    "results.summary"
   ]
  },
  {
   "cell_type": "markdown",
   "metadata": {},
   "source": [
    "**Conclusion, les réformes sont trop lacunaires** "
   ]
  },
  {
   "cell_type": "markdown",
   "metadata": {},
   "source": [
    "**Avec reaserach development brut**"
   ]
  },
  {
   "cell_type": "markdown",
   "metadata": {},
   "source": [
    "**IV = score and Y = diff**"
   ]
  },
  {
   "cell_type": "code",
   "execution_count": 140,
   "metadata": {},
   "outputs": [
    {
     "data": {
      "text/plain": [
       "Index(['countrycode', 'closing_date', 'ebitda',\n",
       "       'r_d_expenses_operating_revenue', 'research_development_expenses',\n",
       "       'number_of_employees', 'Deal value\\r\\nm EUR', 'Acquired stake (%)_0_10',\n",
       "       'Acquired stake (%)_10_20', 'Acquired stake (%)_20_30',\n",
       "       'Acquired stake (%)_30_40', 'Acquired stake (%)_40_50',\n",
       "       'Acquired stake (%)_0_25', 'Acquired stake (%)_25_50',\n",
       "       'Acquired stake (%)_0_50',\n",
       "       'Total deal value for Acquired stake (%)0_10',\n",
       "       'Total deal value for Acquired stake (%)_10_20',\n",
       "       'Total deal value for Acquired stake (%)_20_30',\n",
       "       'Total deal value for Acquired stake (%)_30_40',\n",
       "       'Total deal value for Acquired stake (%)_40_50',\n",
       "       'Total deal value for Acquired stake (%)_0_25',\n",
       "       'Total deal value for Acquired stake (%)_25_50',\n",
       "       'Total deal value for Acquired stake (%)_0_50', 'Final stake (%)_0_10',\n",
       "       'Final stake (%)_10_20', 'Final stake (%)_20_30',\n",
       "       'Final stake (%)_30_40', 'Final stake (%)_40_50',\n",
       "       'Final stake (%)_0_25', 'Final stake (%)_25_50',\n",
       "       'Score-protecting minority investors', 'Reform', 'is_reform',\n",
       "       'avg_r_d_expenses_operating_revenue',\n",
       "       'diff_r_d_expenses_operating_revenue'],\n",
       "      dtype='object')"
      ]
     },
     "execution_count": 140,
     "metadata": {},
     "output_type": "execute_result"
    }
   ],
   "source": [
    "df.columns"
   ]
  },
  {
   "cell_type": "code",
   "execution_count": 141,
   "metadata": {},
   "outputs": [
    {
     "name": "stdout",
     "output_type": "stream",
     "text": [
      "0.08948116892877879 0.7679240319750927\n"
     ]
    },
    {
     "data": {
      "text/html": [
       "<div>\n",
       "<style scoped>\n",
       "    .dataframe tbody tr th:only-of-type {\n",
       "        vertical-align: middle;\n",
       "    }\n",
       "\n",
       "    .dataframe tbody tr th {\n",
       "        vertical-align: top;\n",
       "    }\n",
       "\n",
       "    .dataframe thead th {\n",
       "        text-align: right;\n",
       "    }\n",
       "</style>\n",
       "<table border=\"1\" class=\"dataframe\">\n",
       "  <thead>\n",
       "    <tr style=\"text-align: right;\">\n",
       "      <th></th>\n",
       "      <th>coeff</th>\n",
       "      <th>se</th>\n",
       "      <th>t</th>\n",
       "      <th>p&gt;t</th>\n",
       "      <th>CI_low</th>\n",
       "      <th>CI_high</th>\n",
       "    </tr>\n",
       "  </thead>\n",
       "  <tbody>\n",
       "    <tr>\n",
       "      <th>Acquired stake (%)_0_10</th>\n",
       "      <td>1.078211e+09</td>\n",
       "      <td>3.604441e+09</td>\n",
       "      <td>0.299134</td>\n",
       "      <td>0.767924</td>\n",
       "      <td>-6.440522e+09</td>\n",
       "      <td>8.596944e+09</td>\n",
       "    </tr>\n",
       "  </tbody>\n",
       "</table>\n",
       "</div>"
      ],
      "text/plain": [
       "                                coeff            se         t       p>t  \\\n",
       "Acquired stake (%)_0_10  1.078211e+09  3.604441e+09  0.299134  0.767924   \n",
       "\n",
       "                               CI_low       CI_high  \n",
       "Acquired stake (%)_0_10 -6.440522e+09  8.596944e+09  "
      ]
     },
     "execution_count": 141,
     "metadata": {},
     "output_type": "execute_result"
    }
   ],
   "source": [
    "# 0-10\n",
    "Y = 'research_development_expenses'\n",
    "X = ['Acquired stake (%)_0_10']\n",
    "Z = ['Score-protecting minority investors']\n",
    "W = []\n",
    "fe_var = 'countrycode'\n",
    "cluster = 'countrycode'\n",
    "\n",
    "results = mt.ivreg(df, Y,X,Z,W, fe_name = fe_var, cluster=cluster)\n",
    "F1, pF1 = results.Ftest(['Acquired stake (%)_0_10'])\n",
    "print(F1,pF1)\n",
    "results.summary"
   ]
  },
  {
   "cell_type": "code",
   "execution_count": 142,
   "metadata": {},
   "outputs": [
    {
     "name": "stdout",
     "output_type": "stream",
     "text": [
      "0.004388738170153865 0.9478385032056598\n"
     ]
    },
    {
     "data": {
      "text/html": [
       "<div>\n",
       "<style scoped>\n",
       "    .dataframe tbody tr th:only-of-type {\n",
       "        vertical-align: middle;\n",
       "    }\n",
       "\n",
       "    .dataframe tbody tr th {\n",
       "        vertical-align: top;\n",
       "    }\n",
       "\n",
       "    .dataframe thead th {\n",
       "        text-align: right;\n",
       "    }\n",
       "</style>\n",
       "<table border=\"1\" class=\"dataframe\">\n",
       "  <thead>\n",
       "    <tr style=\"text-align: right;\">\n",
       "      <th></th>\n",
       "      <th>coeff</th>\n",
       "      <th>se</th>\n",
       "      <th>t</th>\n",
       "      <th>p&gt;t</th>\n",
       "      <th>CI_low</th>\n",
       "      <th>CI_high</th>\n",
       "    </tr>\n",
       "  </thead>\n",
       "  <tbody>\n",
       "    <tr>\n",
       "      <th>Acquired stake (%)_10_20</th>\n",
       "      <td>-5.043173e+10</td>\n",
       "      <td>7.612618e+11</td>\n",
       "      <td>-0.066248</td>\n",
       "      <td>0.947839</td>\n",
       "      <td>-1.638396e+12</td>\n",
       "      <td>1.537533e+12</td>\n",
       "    </tr>\n",
       "  </tbody>\n",
       "</table>\n",
       "</div>"
      ],
      "text/plain": [
       "                                 coeff            se         t       p>t  \\\n",
       "Acquired stake (%)_10_20 -5.043173e+10  7.612618e+11 -0.066248  0.947839   \n",
       "\n",
       "                                CI_low       CI_high  \n",
       "Acquired stake (%)_10_20 -1.638396e+12  1.537533e+12  "
      ]
     },
     "execution_count": 142,
     "metadata": {},
     "output_type": "execute_result"
    }
   ],
   "source": [
    "# 10-20\n",
    "Y = 'research_development_expenses'\n",
    "X = ['Acquired stake (%)_10_20']\n",
    "Z = ['Score-protecting minority investors']\n",
    "W = []\n",
    "fe_var = 'countrycode'\n",
    "cluster = 'countrycode'\n",
    "\n",
    "results = mt.ivreg(df, Y,X,Z,W, fe_name = fe_var, cluster=cluster)\n",
    "F1, pF1 = results.Ftest(['Acquired stake (%)_10_20'])\n",
    "print(F1,pF1)\n",
    "results.summary"
   ]
  },
  {
   "cell_type": "code",
   "execution_count": 143,
   "metadata": {},
   "outputs": [
    {
     "name": "stdout",
     "output_type": "stream",
     "text": [
      "0.35334260458932676 0.5588921455469087\n"
     ]
    },
    {
     "data": {
      "text/html": [
       "<div>\n",
       "<style scoped>\n",
       "    .dataframe tbody tr th:only-of-type {\n",
       "        vertical-align: middle;\n",
       "    }\n",
       "\n",
       "    .dataframe tbody tr th {\n",
       "        vertical-align: top;\n",
       "    }\n",
       "\n",
       "    .dataframe thead th {\n",
       "        text-align: right;\n",
       "    }\n",
       "</style>\n",
       "<table border=\"1\" class=\"dataframe\">\n",
       "  <thead>\n",
       "    <tr style=\"text-align: right;\">\n",
       "      <th></th>\n",
       "      <th>coeff</th>\n",
       "      <th>se</th>\n",
       "      <th>t</th>\n",
       "      <th>p&gt;t</th>\n",
       "      <th>CI_low</th>\n",
       "      <th>CI_high</th>\n",
       "    </tr>\n",
       "  </thead>\n",
       "  <tbody>\n",
       "    <tr>\n",
       "      <th>Acquired stake (%)_20_30</th>\n",
       "      <td>-4.666444e+09</td>\n",
       "      <td>7.850333e+09</td>\n",
       "      <td>-0.594426</td>\n",
       "      <td>0.558892</td>\n",
       "      <td>-2.104195e+10</td>\n",
       "      <td>1.170906e+10</td>\n",
       "    </tr>\n",
       "  </tbody>\n",
       "</table>\n",
       "</div>"
      ],
      "text/plain": [
       "                                 coeff            se         t       p>t  \\\n",
       "Acquired stake (%)_20_30 -4.666444e+09  7.850333e+09 -0.594426  0.558892   \n",
       "\n",
       "                                CI_low       CI_high  \n",
       "Acquired stake (%)_20_30 -2.104195e+10  1.170906e+10  "
      ]
     },
     "execution_count": 143,
     "metadata": {},
     "output_type": "execute_result"
    }
   ],
   "source": [
    "# 20-30\n",
    "Y = 'research_development_expenses'\n",
    "X = ['Acquired stake (%)_20_30']\n",
    "Z = ['Score-protecting minority investors']\n",
    "W = []\n",
    "fe_var = 'countrycode'\n",
    "cluster = 'countrycode'\n",
    "\n",
    "results = mt.ivreg(df, Y,X,Z,W, fe_name = fe_var, cluster=cluster)\n",
    "F1, pF1 = results.Ftest(['Acquired stake (%)_20_30'])\n",
    "print(F1,pF1)\n",
    "results.summary"
   ]
  },
  {
   "cell_type": "code",
   "execution_count": 144,
   "metadata": {},
   "outputs": [
    {
     "name": "stdout",
     "output_type": "stream",
     "text": [
      "0.3624941423101848 0.5538893610021596\n"
     ]
    },
    {
     "data": {
      "text/html": [
       "<div>\n",
       "<style scoped>\n",
       "    .dataframe tbody tr th:only-of-type {\n",
       "        vertical-align: middle;\n",
       "    }\n",
       "\n",
       "    .dataframe tbody tr th {\n",
       "        vertical-align: top;\n",
       "    }\n",
       "\n",
       "    .dataframe thead th {\n",
       "        text-align: right;\n",
       "    }\n",
       "</style>\n",
       "<table border=\"1\" class=\"dataframe\">\n",
       "  <thead>\n",
       "    <tr style=\"text-align: right;\">\n",
       "      <th></th>\n",
       "      <th>coeff</th>\n",
       "      <th>se</th>\n",
       "      <th>t</th>\n",
       "      <th>p&gt;t</th>\n",
       "      <th>CI_low</th>\n",
       "      <th>CI_high</th>\n",
       "    </tr>\n",
       "  </thead>\n",
       "  <tbody>\n",
       "    <tr>\n",
       "      <th>Acquired stake (%)_30_40</th>\n",
       "      <td>9.950381e+09</td>\n",
       "      <td>1.652682e+10</td>\n",
       "      <td>0.602075</td>\n",
       "      <td>0.553889</td>\n",
       "      <td>-2.452395e+10</td>\n",
       "      <td>4.442472e+10</td>\n",
       "    </tr>\n",
       "  </tbody>\n",
       "</table>\n",
       "</div>"
      ],
      "text/plain": [
       "                                 coeff            se         t       p>t  \\\n",
       "Acquired stake (%)_30_40  9.950381e+09  1.652682e+10  0.602075  0.553889   \n",
       "\n",
       "                                CI_low       CI_high  \n",
       "Acquired stake (%)_30_40 -2.452395e+10  4.442472e+10  "
      ]
     },
     "execution_count": 144,
     "metadata": {},
     "output_type": "execute_result"
    }
   ],
   "source": [
    "# 30-40\n",
    "Y = 'research_development_expenses'\n",
    "X = ['Acquired stake (%)_30_40']\n",
    "Z = ['Score-protecting minority investors']\n",
    "W = []\n",
    "fe_var = 'countrycode'\n",
    "cluster = 'countrycode'\n",
    "\n",
    "results = mt.ivreg(df, Y,X,Z,W, fe_name = fe_var, cluster=cluster)\n",
    "F1, pF1 = results.Ftest(['Acquired stake (%)_30_40'])\n",
    "print(F1,pF1)\n",
    "results.summary"
   ]
  },
  {
   "cell_type": "code",
   "execution_count": 145,
   "metadata": {},
   "outputs": [
    {
     "name": "stdout",
     "output_type": "stream",
     "text": [
      "0.0003466075540520988 0.9853308041965138\n"
     ]
    },
    {
     "data": {
      "text/html": [
       "<div>\n",
       "<style scoped>\n",
       "    .dataframe tbody tr th:only-of-type {\n",
       "        vertical-align: middle;\n",
       "    }\n",
       "\n",
       "    .dataframe tbody tr th {\n",
       "        vertical-align: top;\n",
       "    }\n",
       "\n",
       "    .dataframe thead th {\n",
       "        text-align: right;\n",
       "    }\n",
       "</style>\n",
       "<table border=\"1\" class=\"dataframe\">\n",
       "  <thead>\n",
       "    <tr style=\"text-align: right;\">\n",
       "      <th></th>\n",
       "      <th>coeff</th>\n",
       "      <th>se</th>\n",
       "      <th>t</th>\n",
       "      <th>p&gt;t</th>\n",
       "      <th>CI_low</th>\n",
       "      <th>CI_high</th>\n",
       "    </tr>\n",
       "  </thead>\n",
       "  <tbody>\n",
       "    <tr>\n",
       "      <th>Acquired stake (%)_40_50</th>\n",
       "      <td>4.824862e+11</td>\n",
       "      <td>2.591587e+13</td>\n",
       "      <td>0.018617</td>\n",
       "      <td>0.985331</td>\n",
       "      <td>-5.357708e+13</td>\n",
       "      <td>5.454205e+13</td>\n",
       "    </tr>\n",
       "  </tbody>\n",
       "</table>\n",
       "</div>"
      ],
      "text/plain": [
       "                                 coeff            se         t       p>t  \\\n",
       "Acquired stake (%)_40_50  4.824862e+11  2.591587e+13  0.018617  0.985331   \n",
       "\n",
       "                                CI_low       CI_high  \n",
       "Acquired stake (%)_40_50 -5.357708e+13  5.454205e+13  "
      ]
     },
     "execution_count": 145,
     "metadata": {},
     "output_type": "execute_result"
    }
   ],
   "source": [
    "# 40-50\n",
    "Y = 'research_development_expenses'\n",
    "X = ['Acquired stake (%)_40_50']\n",
    "Z = ['Score-protecting minority investors']\n",
    "W = []\n",
    "fe_var = 'countrycode'\n",
    "cluster = 'countrycode'\n",
    "\n",
    "results = mt.ivreg(df, Y,X,Z,W, fe_name = fe_var, cluster=cluster)\n",
    "F1, pF1 = results.Ftest(['Acquired stake (%)_40_50'])\n",
    "print(F1,pF1)\n",
    "results.summary"
   ]
  },
  {
   "cell_type": "markdown",
   "metadata": {},
   "source": [
    "**With mean and diff**"
   ]
  },
  {
   "cell_type": "code",
   "execution_count": 150,
   "metadata": {},
   "outputs": [
    {
     "data": {
      "text/plain": [
       "Index(['countrycode', 'closing_date', 'ebitda',\n",
       "       'r_d_expenses_operating_revenue', 'research_development_expenses',\n",
       "       'number_of_employees', 'Deal value\\r\\nm EUR', 'Acquired stake (%)_0_10',\n",
       "       'Acquired stake (%)_10_20', 'Acquired stake (%)_20_30',\n",
       "       'Acquired stake (%)_30_40', 'Acquired stake (%)_40_50',\n",
       "       'Acquired stake (%)_0_25', 'Acquired stake (%)_25_50',\n",
       "       'Acquired stake (%)_0_50',\n",
       "       'Total deal value for Acquired stake (%)0_10',\n",
       "       'Total deal value for Acquired stake (%)_10_20',\n",
       "       'Total deal value for Acquired stake (%)_20_30',\n",
       "       'Total deal value for Acquired stake (%)_30_40',\n",
       "       'Total deal value for Acquired stake (%)_40_50',\n",
       "       'Total deal value for Acquired stake (%)_0_25',\n",
       "       'Total deal value for Acquired stake (%)_25_50',\n",
       "       'Total deal value for Acquired stake (%)_0_50', 'Final stake (%)_0_10',\n",
       "       'Final stake (%)_10_20', 'Final stake (%)_20_30',\n",
       "       'Final stake (%)_30_40', 'Final stake (%)_40_50',\n",
       "       'Final stake (%)_0_25', 'Final stake (%)_25_50',\n",
       "       'Score-protecting minority investors', 'Reform', 'is_reform',\n",
       "       'avg_r_d_expenses_operating_revenue',\n",
       "       'diff_r_d_expenses_operating_revenue'],\n",
       "      dtype='object')"
      ]
     },
     "execution_count": 150,
     "metadata": {},
     "output_type": "execute_result"
    }
   ],
   "source": [
    "df.columns"
   ]
  },
  {
   "cell_type": "code",
   "execution_count": 7,
   "metadata": {},
   "outputs": [
    {
     "name": "stderr",
     "output_type": "stream",
     "text": [
      "C:\\Users\\KP519\\AppData\\Local\\Temp/ipykernel_19156/3935099857.py:12: SettingWithCopyWarning: \n",
      "A value is trying to be set on a copy of a slice from a DataFrame\n",
      "\n",
      "See the caveats in the documentation: https://pandas.pydata.org/pandas-docs/stable/user_guide/indexing.html#returning-a-view-versus-a-copy\n",
      "  df['avg_r_d_research_dev'][i] = sum / 3\n",
      "C:\\Users\\KP519\\AppData\\Local\\Temp/ipykernel_19156/3935099857.py:17: SettingWithCopyWarning: \n",
      "A value is trying to be set on a copy of a slice from a DataFrame\n",
      "\n",
      "See the caveats in the documentation: https://pandas.pydata.org/pandas-docs/stable/user_guide/indexing.html#returning-a-view-versus-a-copy\n",
      "  df['avg_r_d_research_dev'][i] = df['research_development_expenses'][i]\n",
      "C:\\Users\\KP519\\AppData\\Local\\Temp/ipykernel_19156/3935099857.py:15: SettingWithCopyWarning: \n",
      "A value is trying to be set on a copy of a slice from a DataFrame\n",
      "\n",
      "See the caveats in the documentation: https://pandas.pydata.org/pandas-docs/stable/user_guide/indexing.html#returning-a-view-versus-a-copy\n",
      "  df['avg_r_d_research_dev'][i] = sum / 2\n",
      "C:\\Users\\KP519\\AppData\\Local\\Temp/ipykernel_19156/3935099857.py:25: SettingWithCopyWarning: \n",
      "A value is trying to be set on a copy of a slice from a DataFrame\n",
      "\n",
      "See the caveats in the documentation: https://pandas.pydata.org/pandas-docs/stable/user_guide/indexing.html#returning-a-view-versus-a-copy\n",
      "  df['diff_r_d_research_dev'][i] = df['research_development_expenses'][i+1] - df['research_development_expenses'][i]\n",
      "C:\\Users\\KP519\\AppData\\Local\\Temp/ipykernel_19156/3935099857.py:27: SettingWithCopyWarning: \n",
      "A value is trying to be set on a copy of a slice from a DataFrame\n",
      "\n",
      "See the caveats in the documentation: https://pandas.pydata.org/pandas-docs/stable/user_guide/indexing.html#returning-a-view-versus-a-copy\n",
      "  df['diff_r_d_research_dev'][i] = df['research_development_expenses'][i]\n"
     ]
    }
   ],
   "source": [
    "# pour acquisition 0-50, moyenne de r_d_research_dev \n",
    "# année en cours + 2 années après. \n",
    "# Si pas possible, moyenne sur l'année en cours et l'année suivante, ou valeur de l'anée\n",
    "df.sort_values(by= ['countrycode', 'closing_date'], inplace = True)\n",
    "df['avg_r_d_research_dev'] = 0\n",
    "for i in range(df.shape[0]-2) : \n",
    "    country = df['countrycode'][i]\n",
    "    country_N_1 = df['countrycode'][i+1]\n",
    "    country_N_2 = df['countrycode'][i+2]\n",
    "    if (country == country_N_1) and (country == country_N_2):\n",
    "        sum = df['research_development_expenses'][i] + df['research_development_expenses'][i+1] +  df['research_development_expenses'][i+2]\n",
    "        df['avg_r_d_research_dev'][i] = sum / 3\n",
    "    if (country == country_N_1) and (country != country_N_2):\n",
    "        sum = df['research_development_expenses'][i] + df['research_development_expenses'][i+1]\n",
    "        df['avg_r_d_research_dev'][i] = sum / 2\n",
    "    else : \n",
    "        df['avg_r_d_research_dev'][i] = df['research_development_expenses'][i]\n",
    "\n",
    "# pour acquisition 0-50, difference r_d_research_dev un an apres - année en cours\n",
    "df['diff_r_d_research_dev'] = 0\n",
    "for i in range(df.shape[0]-1) : \n",
    "    country = df['countrycode'][i]\n",
    "    country_N1 = df['countrycode'][i+1]\n",
    "    if country == country_N1 :\n",
    "        df['diff_r_d_research_dev'][i] = df['research_development_expenses'][i+1] - df['research_development_expenses'][i]\n",
    "    else : \n",
    "        df['diff_r_d_research_dev'][i] = df['research_development_expenses'][i]\n"
   ]
  },
  {
   "cell_type": "markdown",
   "metadata": {},
   "source": [
    "**With mean**"
   ]
  },
  {
   "cell_type": "code",
   "execution_count": 158,
   "metadata": {},
   "outputs": [
    {
     "data": {
      "text/plain": [
       "Index(['countrycode', 'closing_date', 'ebitda',\n",
       "       'r_d_expenses_operating_revenue', 'research_development_expenses',\n",
       "       'number_of_employees', 'Deal value\\r\\nm EUR', 'Acquired stake (%)_0_10',\n",
       "       'Acquired stake (%)_10_20', 'Acquired stake (%)_20_30',\n",
       "       'Acquired stake (%)_30_40', 'Acquired stake (%)_40_50',\n",
       "       'Acquired stake (%)_0_25', 'Acquired stake (%)_25_50',\n",
       "       'Acquired stake (%)_0_50',\n",
       "       'Total deal value for Acquired stake (%)0_10',\n",
       "       'Total deal value for Acquired stake (%)_10_20',\n",
       "       'Total deal value for Acquired stake (%)_20_30',\n",
       "       'Total deal value for Acquired stake (%)_30_40',\n",
       "       'Total deal value for Acquired stake (%)_40_50',\n",
       "       'Total deal value for Acquired stake (%)_0_25',\n",
       "       'Total deal value for Acquired stake (%)_25_50',\n",
       "       'Total deal value for Acquired stake (%)_0_50', 'Final stake (%)_0_10',\n",
       "       'Final stake (%)_10_20', 'Final stake (%)_20_30',\n",
       "       'Final stake (%)_30_40', 'Final stake (%)_40_50',\n",
       "       'Final stake (%)_0_25', 'Final stake (%)_25_50',\n",
       "       'Score-protecting minority investors', 'Reform', 'is_reform',\n",
       "       'avg_r_d_expenses_operating_revenue',\n",
       "       'diff_r_d_expenses_operating_revenue', 'avg_r_d_research_dev',\n",
       "       'diff_r_d_research_dev'],\n",
       "      dtype='object')"
      ]
     },
     "execution_count": 158,
     "metadata": {},
     "output_type": "execute_result"
    }
   ],
   "source": [
    "df.columns"
   ]
  },
  {
   "cell_type": "code",
   "execution_count": 159,
   "metadata": {},
   "outputs": [
    {
     "name": "stdout",
     "output_type": "stream",
     "text": [
      "0.08800983053344863 0.7697815686178051\n"
     ]
    },
    {
     "data": {
      "text/html": [
       "<div>\n",
       "<style scoped>\n",
       "    .dataframe tbody tr th:only-of-type {\n",
       "        vertical-align: middle;\n",
       "    }\n",
       "\n",
       "    .dataframe tbody tr th {\n",
       "        vertical-align: top;\n",
       "    }\n",
       "\n",
       "    .dataframe thead th {\n",
       "        text-align: right;\n",
       "    }\n",
       "</style>\n",
       "<table border=\"1\" class=\"dataframe\">\n",
       "  <thead>\n",
       "    <tr style=\"text-align: right;\">\n",
       "      <th></th>\n",
       "      <th>coeff</th>\n",
       "      <th>se</th>\n",
       "      <th>t</th>\n",
       "      <th>p&gt;t</th>\n",
       "      <th>CI_low</th>\n",
       "      <th>CI_high</th>\n",
       "    </tr>\n",
       "  </thead>\n",
       "  <tbody>\n",
       "    <tr>\n",
       "      <th>Acquired stake (%)_0_10</th>\n",
       "      <td>1.172236e+09</td>\n",
       "      <td>3.951386e+09</td>\n",
       "      <td>0.296665</td>\n",
       "      <td>0.769782</td>\n",
       "      <td>-7.070212e+09</td>\n",
       "      <td>9.414684e+09</td>\n",
       "    </tr>\n",
       "  </tbody>\n",
       "</table>\n",
       "</div>"
      ],
      "text/plain": [
       "                                coeff            se         t       p>t  \\\n",
       "Acquired stake (%)_0_10  1.172236e+09  3.951386e+09  0.296665  0.769782   \n",
       "\n",
       "                               CI_low       CI_high  \n",
       "Acquired stake (%)_0_10 -7.070212e+09  9.414684e+09  "
      ]
     },
     "execution_count": 159,
     "metadata": {},
     "output_type": "execute_result"
    }
   ],
   "source": [
    "# 0-10\n",
    "Y = 'avg_r_d_research_dev'\n",
    "X = ['Acquired stake (%)_0_10']\n",
    "Z = ['Score-protecting minority investors']\n",
    "W = []\n",
    "fe_var = 'countrycode'\n",
    "cluster = 'countrycode'\n",
    "\n",
    "results = mt.ivreg(df, Y,X,Z,W, fe_name = fe_var, cluster=cluster)\n",
    "F1, pF1 = results.Ftest(['Acquired stake (%)_0_10'])\n",
    "print(F1,pF1)\n",
    "results.summary"
   ]
  },
  {
   "cell_type": "code",
   "execution_count": 160,
   "metadata": {},
   "outputs": [
    {
     "name": "stdout",
     "output_type": "stream",
     "text": [
      "0.0043946630626604775 0.9478033595804273\n"
     ]
    },
    {
     "data": {
      "text/html": [
       "<div>\n",
       "<style scoped>\n",
       "    .dataframe tbody tr th:only-of-type {\n",
       "        vertical-align: middle;\n",
       "    }\n",
       "\n",
       "    .dataframe tbody tr th {\n",
       "        vertical-align: top;\n",
       "    }\n",
       "\n",
       "    .dataframe thead th {\n",
       "        text-align: right;\n",
       "    }\n",
       "</style>\n",
       "<table border=\"1\" class=\"dataframe\">\n",
       "  <thead>\n",
       "    <tr style=\"text-align: right;\">\n",
       "      <th></th>\n",
       "      <th>coeff</th>\n",
       "      <th>se</th>\n",
       "      <th>t</th>\n",
       "      <th>p&gt;t</th>\n",
       "      <th>CI_low</th>\n",
       "      <th>CI_high</th>\n",
       "    </tr>\n",
       "  </thead>\n",
       "  <tbody>\n",
       "    <tr>\n",
       "      <th>Acquired stake (%)_10_20</th>\n",
       "      <td>-5.482962e+10</td>\n",
       "      <td>8.270893e+11</td>\n",
       "      <td>-0.066292</td>\n",
       "      <td>0.947803</td>\n",
       "      <td>-1.780108e+12</td>\n",
       "      <td>1.670448e+12</td>\n",
       "    </tr>\n",
       "  </tbody>\n",
       "</table>\n",
       "</div>"
      ],
      "text/plain": [
       "                                 coeff            se         t       p>t  \\\n",
       "Acquired stake (%)_10_20 -5.482962e+10  8.270893e+11 -0.066292  0.947803   \n",
       "\n",
       "                                CI_low       CI_high  \n",
       "Acquired stake (%)_10_20 -1.780108e+12  1.670448e+12  "
      ]
     },
     "execution_count": 160,
     "metadata": {},
     "output_type": "execute_result"
    }
   ],
   "source": [
    "# 10-20\n",
    "Y = 'avg_r_d_research_dev'\n",
    "X = ['Acquired stake (%)_10_20']\n",
    "Z = ['Score-protecting minority investors']\n",
    "W = []\n",
    "fe_var = 'countrycode'\n",
    "cluster = 'countrycode'\n",
    "\n",
    "results = mt.ivreg(df, Y,X,Z,W, fe_name = fe_var, cluster=cluster)\n",
    "F1, pF1 = results.Ftest(['Acquired stake (%)_10_20'])\n",
    "print(F1,pF1)\n",
    "results.summary"
   ]
  },
  {
   "cell_type": "code",
   "execution_count": 161,
   "metadata": {},
   "outputs": [
    {
     "name": "stdout",
     "output_type": "stream",
     "text": [
      "0.3609676494815377 0.5547177734076236\n"
     ]
    },
    {
     "data": {
      "text/html": [
       "<div>\n",
       "<style scoped>\n",
       "    .dataframe tbody tr th:only-of-type {\n",
       "        vertical-align: middle;\n",
       "    }\n",
       "\n",
       "    .dataframe tbody tr th {\n",
       "        vertical-align: top;\n",
       "    }\n",
       "\n",
       "    .dataframe thead th {\n",
       "        text-align: right;\n",
       "    }\n",
       "</style>\n",
       "<table border=\"1\" class=\"dataframe\">\n",
       "  <thead>\n",
       "    <tr style=\"text-align: right;\">\n",
       "      <th></th>\n",
       "      <th>coeff</th>\n",
       "      <th>se</th>\n",
       "      <th>t</th>\n",
       "      <th>p&gt;t</th>\n",
       "      <th>CI_low</th>\n",
       "      <th>CI_high</th>\n",
       "    </tr>\n",
       "  </thead>\n",
       "  <tbody>\n",
       "    <tr>\n",
       "      <th>Acquired stake (%)_20_30</th>\n",
       "      <td>-5.073380e+09</td>\n",
       "      <td>8.444292e+09</td>\n",
       "      <td>-0.600806</td>\n",
       "      <td>0.554718</td>\n",
       "      <td>-2.268787e+10</td>\n",
       "      <td>1.254111e+10</td>\n",
       "    </tr>\n",
       "  </tbody>\n",
       "</table>\n",
       "</div>"
      ],
      "text/plain": [
       "                                 coeff            se         t       p>t  \\\n",
       "Acquired stake (%)_20_30 -5.073380e+09  8.444292e+09 -0.600806  0.554718   \n",
       "\n",
       "                                CI_low       CI_high  \n",
       "Acquired stake (%)_20_30 -2.268787e+10  1.254111e+10  "
      ]
     },
     "execution_count": 161,
     "metadata": {},
     "output_type": "execute_result"
    }
   ],
   "source": [
    "# 20-30\n",
    "Y = 'avg_r_d_research_dev'\n",
    "X = ['Acquired stake (%)_20_30']\n",
    "Z = ['Score-protecting minority investors']\n",
    "W = []\n",
    "fe_var = 'countrycode'\n",
    "cluster = 'countrycode'\n",
    "\n",
    "results = mt.ivreg(df, Y,X,Z,W, fe_name = fe_var, cluster=cluster)\n",
    "F1, pF1 = results.Ftest(['Acquired stake (%)_20_30'])\n",
    "print(F1,pF1)\n",
    "results.summary"
   ]
  },
  {
   "cell_type": "code",
   "execution_count": 162,
   "metadata": {},
   "outputs": [
    {
     "name": "stdout",
     "output_type": "stream",
     "text": [
      "0.36250031107652225 0.5538860181384557\n"
     ]
    },
    {
     "data": {
      "text/html": [
       "<div>\n",
       "<style scoped>\n",
       "    .dataframe tbody tr th:only-of-type {\n",
       "        vertical-align: middle;\n",
       "    }\n",
       "\n",
       "    .dataframe tbody tr th {\n",
       "        vertical-align: top;\n",
       "    }\n",
       "\n",
       "    .dataframe thead th {\n",
       "        text-align: right;\n",
       "    }\n",
       "</style>\n",
       "<table border=\"1\" class=\"dataframe\">\n",
       "  <thead>\n",
       "    <tr style=\"text-align: right;\">\n",
       "      <th></th>\n",
       "      <th>coeff</th>\n",
       "      <th>se</th>\n",
       "      <th>t</th>\n",
       "      <th>p&gt;t</th>\n",
       "      <th>CI_low</th>\n",
       "      <th>CI_high</th>\n",
       "    </tr>\n",
       "  </thead>\n",
       "  <tbody>\n",
       "    <tr>\n",
       "      <th>Acquired stake (%)_30_40</th>\n",
       "      <td>1.081810e+10</td>\n",
       "      <td>1.796788e+10</td>\n",
       "      <td>0.60208</td>\n",
       "      <td>0.553886</td>\n",
       "      <td>-2.666224e+10</td>\n",
       "      <td>4.829844e+10</td>\n",
       "    </tr>\n",
       "  </tbody>\n",
       "</table>\n",
       "</div>"
      ],
      "text/plain": [
       "                                 coeff            se        t       p>t  \\\n",
       "Acquired stake (%)_30_40  1.081810e+10  1.796788e+10  0.60208  0.553886   \n",
       "\n",
       "                                CI_low       CI_high  \n",
       "Acquired stake (%)_30_40 -2.666224e+10  4.829844e+10  "
      ]
     },
     "execution_count": 162,
     "metadata": {},
     "output_type": "execute_result"
    }
   ],
   "source": [
    "# 30-40\n",
    "Y = 'avg_r_d_research_dev'\n",
    "X = ['Acquired stake (%)_30_40']\n",
    "Z = ['Score-protecting minority investors']\n",
    "W = []\n",
    "fe_var = 'countrycode'\n",
    "cluster = 'countrycode'\n",
    "\n",
    "results = mt.ivreg(df, Y,X,Z,W, fe_name = fe_var, cluster=cluster)\n",
    "F1, pF1 = results.Ftest(['Acquired stake (%)_30_40'])\n",
    "print(F1,pF1)\n",
    "results.summary"
   ]
  },
  {
   "cell_type": "code",
   "execution_count": 163,
   "metadata": {},
   "outputs": [
    {
     "name": "stdout",
     "output_type": "stream",
     "text": [
      "0.0003465090488336024 0.9853328885708168\n"
     ]
    },
    {
     "data": {
      "text/html": [
       "<div>\n",
       "<style scoped>\n",
       "    .dataframe tbody tr th:only-of-type {\n",
       "        vertical-align: middle;\n",
       "    }\n",
       "\n",
       "    .dataframe tbody tr th {\n",
       "        vertical-align: top;\n",
       "    }\n",
       "\n",
       "    .dataframe thead th {\n",
       "        text-align: right;\n",
       "    }\n",
       "</style>\n",
       "<table border=\"1\" class=\"dataframe\">\n",
       "  <thead>\n",
       "    <tr style=\"text-align: right;\">\n",
       "      <th></th>\n",
       "      <th>coeff</th>\n",
       "      <th>se</th>\n",
       "      <th>t</th>\n",
       "      <th>p&gt;t</th>\n",
       "      <th>CI_low</th>\n",
       "      <th>CI_high</th>\n",
       "    </tr>\n",
       "  </thead>\n",
       "  <tbody>\n",
       "    <tr>\n",
       "      <th>Acquired stake (%)_40_50</th>\n",
       "      <td>5.245612e+11</td>\n",
       "      <td>2.817987e+13</td>\n",
       "      <td>0.018615</td>\n",
       "      <td>0.985333</td>\n",
       "      <td>-5.825761e+13</td>\n",
       "      <td>5.930673e+13</td>\n",
       "    </tr>\n",
       "  </tbody>\n",
       "</table>\n",
       "</div>"
      ],
      "text/plain": [
       "                                 coeff            se         t       p>t  \\\n",
       "Acquired stake (%)_40_50  5.245612e+11  2.817987e+13  0.018615  0.985333   \n",
       "\n",
       "                                CI_low       CI_high  \n",
       "Acquired stake (%)_40_50 -5.825761e+13  5.930673e+13  "
      ]
     },
     "execution_count": 163,
     "metadata": {},
     "output_type": "execute_result"
    }
   ],
   "source": [
    "# 40-50\n",
    "Y = 'avg_r_d_research_dev'\n",
    "X = ['Acquired stake (%)_40_50']\n",
    "Z = ['Score-protecting minority investors']\n",
    "W = []\n",
    "fe_var = 'countrycode'\n",
    "cluster = 'countrycode'\n",
    "\n",
    "results = mt.ivreg(df, Y,X,Z,W, fe_name = fe_var, cluster=cluster)\n",
    "F1, pF1 = results.Ftest(['Acquired stake (%)_40_50'])\n",
    "print(F1,pF1)\n",
    "results.summary"
   ]
  },
  {
   "cell_type": "markdown",
   "metadata": {},
   "source": [
    "**With diff**"
   ]
  },
  {
   "cell_type": "code",
   "execution_count": 164,
   "metadata": {},
   "outputs": [
    {
     "name": "stdout",
     "output_type": "stream",
     "text": [
      "0.08623016035492366 0.7720511702957498\n"
     ]
    },
    {
     "data": {
      "text/html": [
       "<div>\n",
       "<style scoped>\n",
       "    .dataframe tbody tr th:only-of-type {\n",
       "        vertical-align: middle;\n",
       "    }\n",
       "\n",
       "    .dataframe tbody tr th {\n",
       "        vertical-align: top;\n",
       "    }\n",
       "\n",
       "    .dataframe thead th {\n",
       "        text-align: right;\n",
       "    }\n",
       "</style>\n",
       "<table border=\"1\" class=\"dataframe\">\n",
       "  <thead>\n",
       "    <tr style=\"text-align: right;\">\n",
       "      <th></th>\n",
       "      <th>coeff</th>\n",
       "      <th>se</th>\n",
       "      <th>t</th>\n",
       "      <th>p&gt;t</th>\n",
       "      <th>CI_low</th>\n",
       "      <th>CI_high</th>\n",
       "    </tr>\n",
       "  </thead>\n",
       "  <tbody>\n",
       "    <tr>\n",
       "      <th>Acquired stake (%)_0_10</th>\n",
       "      <td>8.758935e+08</td>\n",
       "      <td>2.982783e+09</td>\n",
       "      <td>0.29365</td>\n",
       "      <td>0.772051</td>\n",
       "      <td>-5.346083e+09</td>\n",
       "      <td>7.097870e+09</td>\n",
       "    </tr>\n",
       "  </tbody>\n",
       "</table>\n",
       "</div>"
      ],
      "text/plain": [
       "                                coeff            se        t       p>t  \\\n",
       "Acquired stake (%)_0_10  8.758935e+08  2.982783e+09  0.29365  0.772051   \n",
       "\n",
       "                               CI_low       CI_high  \n",
       "Acquired stake (%)_0_10 -5.346083e+09  7.097870e+09  "
      ]
     },
     "execution_count": 164,
     "metadata": {},
     "output_type": "execute_result"
    }
   ],
   "source": [
    "# 0-10\n",
    "Y = 'diff_r_d_research_dev'\n",
    "X = ['Acquired stake (%)_0_10']\n",
    "Z = ['Score-protecting minority investors']\n",
    "W = []\n",
    "fe_var = 'countrycode'\n",
    "cluster = 'countrycode'\n",
    "\n",
    "results = mt.ivreg(df, Y,X,Z,W, fe_name = fe_var, cluster=cluster)\n",
    "F1, pF1 = results.Ftest(['Acquired stake (%)_0_10'])\n",
    "print(F1,pF1)\n",
    "results.summary"
   ]
  },
  {
   "cell_type": "code",
   "execution_count": 165,
   "metadata": {},
   "outputs": [
    {
     "name": "stdout",
     "output_type": "stream",
     "text": [
      "0.004406981543494858 0.9477303683499484\n"
     ]
    },
    {
     "data": {
      "text/html": [
       "<div>\n",
       "<style scoped>\n",
       "    .dataframe tbody tr th:only-of-type {\n",
       "        vertical-align: middle;\n",
       "    }\n",
       "\n",
       "    .dataframe tbody tr th {\n",
       "        vertical-align: top;\n",
       "    }\n",
       "\n",
       "    .dataframe thead th {\n",
       "        text-align: right;\n",
       "    }\n",
       "</style>\n",
       "<table border=\"1\" class=\"dataframe\">\n",
       "  <thead>\n",
       "    <tr style=\"text-align: right;\">\n",
       "      <th></th>\n",
       "      <th>coeff</th>\n",
       "      <th>se</th>\n",
       "      <th>t</th>\n",
       "      <th>p&gt;t</th>\n",
       "      <th>CI_low</th>\n",
       "      <th>CI_high</th>\n",
       "    </tr>\n",
       "  </thead>\n",
       "  <tbody>\n",
       "    <tr>\n",
       "      <th>Acquired stake (%)_10_20</th>\n",
       "      <td>-4.096863e+10</td>\n",
       "      <td>6.171359e+11</td>\n",
       "      <td>-0.066385</td>\n",
       "      <td>0.94773</td>\n",
       "      <td>-1.328291e+12</td>\n",
       "      <td>1.246354e+12</td>\n",
       "    </tr>\n",
       "  </tbody>\n",
       "</table>\n",
       "</div>"
      ],
      "text/plain": [
       "                                 coeff            se         t      p>t  \\\n",
       "Acquired stake (%)_10_20 -4.096863e+10  6.171359e+11 -0.066385  0.94773   \n",
       "\n",
       "                                CI_low       CI_high  \n",
       "Acquired stake (%)_10_20 -1.328291e+12  1.246354e+12  "
      ]
     },
     "execution_count": 165,
     "metadata": {},
     "output_type": "execute_result"
    }
   ],
   "source": [
    "# 10-20\n",
    "Y = 'diff_r_d_research_dev'\n",
    "X = ['Acquired stake (%)_10_20']\n",
    "Z = ['Score-protecting minority investors']\n",
    "W = []\n",
    "fe_var = 'countrycode'\n",
    "cluster = 'countrycode'\n",
    "\n",
    "results = mt.ivreg(df, Y,X,Z,W, fe_name = fe_var, cluster=cluster)\n",
    "F1, pF1 = results.Ftest(['Acquired stake (%)_10_20'])\n",
    "print(F1,pF1)\n",
    "results.summary"
   ]
  },
  {
   "cell_type": "code",
   "execution_count": 166,
   "metadata": {},
   "outputs": [
    {
     "name": "stdout",
     "output_type": "stream",
     "text": [
      "0.37333409160337433 0.5480746361168535\n"
     ]
    },
    {
     "data": {
      "text/html": [
       "<div>\n",
       "<style scoped>\n",
       "    .dataframe tbody tr th:only-of-type {\n",
       "        vertical-align: middle;\n",
       "    }\n",
       "\n",
       "    .dataframe tbody tr th {\n",
       "        vertical-align: top;\n",
       "    }\n",
       "\n",
       "    .dataframe thead th {\n",
       "        text-align: right;\n",
       "    }\n",
       "</style>\n",
       "<table border=\"1\" class=\"dataframe\">\n",
       "  <thead>\n",
       "    <tr style=\"text-align: right;\">\n",
       "      <th></th>\n",
       "      <th>coeff</th>\n",
       "      <th>se</th>\n",
       "      <th>t</th>\n",
       "      <th>p&gt;t</th>\n",
       "      <th>CI_low</th>\n",
       "      <th>CI_high</th>\n",
       "    </tr>\n",
       "  </thead>\n",
       "  <tbody>\n",
       "    <tr>\n",
       "      <th>Acquired stake (%)_20_30</th>\n",
       "      <td>-3.790824e+09</td>\n",
       "      <td>6.204185e+09</td>\n",
       "      <td>-0.611011</td>\n",
       "      <td>0.548075</td>\n",
       "      <td>-1.673253e+10</td>\n",
       "      <td>9.150880e+09</td>\n",
       "    </tr>\n",
       "  </tbody>\n",
       "</table>\n",
       "</div>"
      ],
      "text/plain": [
       "                                 coeff            se         t       p>t  \\\n",
       "Acquired stake (%)_20_30 -3.790824e+09  6.204185e+09 -0.611011  0.548075   \n",
       "\n",
       "                                CI_low       CI_high  \n",
       "Acquired stake (%)_20_30 -1.673253e+10  9.150880e+09  "
      ]
     },
     "execution_count": 166,
     "metadata": {},
     "output_type": "execute_result"
    }
   ],
   "source": [
    "# 20-30\n",
    "Y = 'diff_r_d_research_dev'\n",
    "X = ['Acquired stake (%)_20_30']\n",
    "Z = ['Score-protecting minority investors']\n",
    "W = []\n",
    "fe_var = 'countrycode'\n",
    "cluster = 'countrycode'\n",
    "\n",
    "results = mt.ivreg(df, Y,X,Z,W, fe_name = fe_var, cluster=cluster)\n",
    "F1, pF1 = results.Ftest(['Acquired stake (%)_20_30'])\n",
    "print(F1,pF1)\n",
    "results.summary"
   ]
  },
  {
   "cell_type": "code",
   "execution_count": 167,
   "metadata": {},
   "outputs": [
    {
     "name": "stdout",
     "output_type": "stream",
     "text": [
      "0.339086835775343 0.566864158519117\n"
     ]
    },
    {
     "data": {
      "text/html": [
       "<div>\n",
       "<style scoped>\n",
       "    .dataframe tbody tr th:only-of-type {\n",
       "        vertical-align: middle;\n",
       "    }\n",
       "\n",
       "    .dataframe tbody tr th {\n",
       "        vertical-align: top;\n",
       "    }\n",
       "\n",
       "    .dataframe thead th {\n",
       "        text-align: right;\n",
       "    }\n",
       "</style>\n",
       "<table border=\"1\" class=\"dataframe\">\n",
       "  <thead>\n",
       "    <tr style=\"text-align: right;\">\n",
       "      <th></th>\n",
       "      <th>coeff</th>\n",
       "      <th>se</th>\n",
       "      <th>t</th>\n",
       "      <th>p&gt;t</th>\n",
       "      <th>CI_low</th>\n",
       "      <th>CI_high</th>\n",
       "    </tr>\n",
       "  </thead>\n",
       "  <tbody>\n",
       "    <tr>\n",
       "      <th>Acquired stake (%)_30_40</th>\n",
       "      <td>8.083273e+09</td>\n",
       "      <td>1.388135e+10</td>\n",
       "      <td>0.582312</td>\n",
       "      <td>0.566864</td>\n",
       "      <td>-2.087272e+10</td>\n",
       "      <td>3.703927e+10</td>\n",
       "    </tr>\n",
       "  </tbody>\n",
       "</table>\n",
       "</div>"
      ],
      "text/plain": [
       "                                 coeff            se         t       p>t  \\\n",
       "Acquired stake (%)_30_40  8.083273e+09  1.388135e+10  0.582312  0.566864   \n",
       "\n",
       "                                CI_low       CI_high  \n",
       "Acquired stake (%)_30_40 -2.087272e+10  3.703927e+10  "
      ]
     },
     "execution_count": 167,
     "metadata": {},
     "output_type": "execute_result"
    }
   ],
   "source": [
    "# 30-40\n",
    "Y = 'diff_r_d_research_dev'\n",
    "X = ['Acquired stake (%)_30_40']\n",
    "Z = ['Score-protecting minority investors']\n",
    "W = []\n",
    "fe_var = 'countrycode'\n",
    "cluster = 'countrycode'\n",
    "\n",
    "results = mt.ivreg(df, Y,X,Z,W, fe_name = fe_var, cluster=cluster)\n",
    "F1, pF1 = results.Ftest(['Acquired stake (%)_30_40'])\n",
    "print(F1,pF1)\n",
    "results.summary"
   ]
  },
  {
   "cell_type": "code",
   "execution_count": 168,
   "metadata": {},
   "outputs": [
    {
     "name": "stdout",
     "output_type": "stream",
     "text": [
      "0.0003456347966233329 0.9853514007854699\n"
     ]
    },
    {
     "data": {
      "text/html": [
       "<div>\n",
       "<style scoped>\n",
       "    .dataframe tbody tr th:only-of-type {\n",
       "        vertical-align: middle;\n",
       "    }\n",
       "\n",
       "    .dataframe tbody tr th {\n",
       "        vertical-align: top;\n",
       "    }\n",
       "\n",
       "    .dataframe thead th {\n",
       "        text-align: right;\n",
       "    }\n",
       "</style>\n",
       "<table border=\"1\" class=\"dataframe\">\n",
       "  <thead>\n",
       "    <tr style=\"text-align: right;\">\n",
       "      <th></th>\n",
       "      <th>coeff</th>\n",
       "      <th>se</th>\n",
       "      <th>t</th>\n",
       "      <th>p&gt;t</th>\n",
       "      <th>CI_low</th>\n",
       "      <th>CI_high</th>\n",
       "    </tr>\n",
       "  </thead>\n",
       "  <tbody>\n",
       "    <tr>\n",
       "      <th>Acquired stake (%)_40_50</th>\n",
       "      <td>3.919516e+11</td>\n",
       "      <td>2.108258e+13</td>\n",
       "      <td>0.018591</td>\n",
       "      <td>0.985351</td>\n",
       "      <td>-4.358553e+13</td>\n",
       "      <td>4.436943e+13</td>\n",
       "    </tr>\n",
       "  </tbody>\n",
       "</table>\n",
       "</div>"
      ],
      "text/plain": [
       "                                 coeff            se         t       p>t  \\\n",
       "Acquired stake (%)_40_50  3.919516e+11  2.108258e+13  0.018591  0.985351   \n",
       "\n",
       "                                CI_low       CI_high  \n",
       "Acquired stake (%)_40_50 -4.358553e+13  4.436943e+13  "
      ]
     },
     "execution_count": 168,
     "metadata": {},
     "output_type": "execute_result"
    }
   ],
   "source": [
    "# 40-50\n",
    "Y = 'diff_r_d_research_dev'\n",
    "X = ['Acquired stake (%)_40_50']\n",
    "Z = ['Score-protecting minority investors']\n",
    "W = []\n",
    "fe_var = 'countrycode'\n",
    "cluster = 'countrycode'\n",
    "\n",
    "results = mt.ivreg(df, Y,X,Z,W, fe_name = fe_var, cluster=cluster)\n",
    "F1, pF1 = results.Ftest(['Acquired stake (%)_40_50'])\n",
    "print(F1,pF1)\n",
    "results.summary"
   ]
  }
 ],
 "metadata": {
  "kernelspec": {
   "display_name": "Python ('econometrics')",
   "language": "python",
   "name": "python3"
  },
  "language_info": {
   "codemirror_mode": {
    "name": "ipython",
    "version": 3
   },
   "file_extension": ".py",
   "mimetype": "text/x-python",
   "name": "python",
   "nbconvert_exporter": "python",
   "pygments_lexer": "ipython3",
   "version": "3.9.5"
  },
  "orig_nbformat": 4,
  "vscode": {
   "interpreter": {
    "hash": "25a19fbe0a9132dfb9279d48d161753c6352f8f9478c2e74383d340069b907c3"
   }
  }
 },
 "nbformat": 4,
 "nbformat_minor": 2
}
