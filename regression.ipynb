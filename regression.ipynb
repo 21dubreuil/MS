{
 "cells": [
  {
   "cell_type": "code",
   "execution_count": 6,
   "metadata": {},
   "outputs": [],
   "source": [
    "import pandas as pd\n",
    "import econtools.metrics as mt\n",
    "import econtools\n",
    "import numpy as np\n"
   ]
  },
  {
   "cell_type": "markdown",
   "metadata": {},
   "source": [
    "**Regression 1** : \\\n",
    "table : H_target_final.csv \\\n",
    "Y : 'r_d_expenses_operating_revenue' \\\n",
    "X : 'Acquired stake (%)_0_50' (endogenous variable) \\\n",
    "Z : 'Score-protecting minority investors' (IV) \\\n",
    "W : 'ebitda' (exogenous variable) \\\n",
    "fixed effect : 'countrycode' \\\n",
    "cluster : 'countrycode' "
   ]
  },
  {
   "cell_type": "code",
   "execution_count": 34,
   "metadata": {},
   "outputs": [
    {
     "name": "stdout",
     "output_type": "stream",
     "text": [
      "0.011040213864544438 0.9173649883817686\n"
     ]
    },
    {
     "data": {
      "text/html": [
       "<div>\n",
       "<style scoped>\n",
       "    .dataframe tbody tr th:only-of-type {\n",
       "        vertical-align: middle;\n",
       "    }\n",
       "\n",
       "    .dataframe tbody tr th {\n",
       "        vertical-align: top;\n",
       "    }\n",
       "\n",
       "    .dataframe thead th {\n",
       "        text-align: right;\n",
       "    }\n",
       "</style>\n",
       "<table border=\"1\" class=\"dataframe\">\n",
       "  <thead>\n",
       "    <tr style=\"text-align: right;\">\n",
       "      <th></th>\n",
       "      <th>coeff</th>\n",
       "      <th>se</th>\n",
       "      <th>t</th>\n",
       "      <th>p&gt;t</th>\n",
       "      <th>CI_low</th>\n",
       "      <th>CI_high</th>\n",
       "    </tr>\n",
       "  </thead>\n",
       "  <tbody>\n",
       "    <tr>\n",
       "      <th>Acquired stake (%)_25_50</th>\n",
       "      <td>-2236.020485</td>\n",
       "      <td>21280.755143</td>\n",
       "      <td>-0.105072</td>\n",
       "      <td>0.917365</td>\n",
       "      <td>-46626.897843</td>\n",
       "      <td>42154.856874</td>\n",
       "    </tr>\n",
       "  </tbody>\n",
       "</table>\n",
       "</div>"
      ],
      "text/plain": [
       "                                coeff            se         t       p>t  \\\n",
       "Acquired stake (%)_25_50 -2236.020485  21280.755143 -0.105072  0.917365   \n",
       "\n",
       "                                CI_low       CI_high  \n",
       "Acquired stake (%)_25_50 -46626.897843  42154.856874  "
      ]
     },
     "execution_count": 34,
     "metadata": {},
     "output_type": "execute_result"
    }
   ],
   "source": [
    "df = econtools.read(\"H_target_final.csv\")\n",
    "Y = 'r_d_expenses_operating_revenue'\n",
    "X = ['Acquired stake (%)_25_50']\n",
    "Z = ['Score-protecting minority investors']\n",
    "W = []\n",
    "fe_var = 'countrycode'\n",
    "cluster = 'countrycode'\n",
    "\n",
    "results = mt.ivreg(df, Y,X,Z,W, fe_name = fe_var, cluster=cluster)\n",
    "F1, pF1 = results.Ftest(['Acquired stake (%)_25_50'])\n",
    "print(F1,pF1)\n",
    "results.summary"
   ]
  },
  {
   "cell_type": "code",
   "execution_count": 31,
   "metadata": {},
   "outputs": [
    {
     "name": "stdout",
     "output_type": "stream",
     "text": [
      "31.563359547040957 1.1963905452883061e-05\n"
     ]
    },
    {
     "data": {
      "text/html": [
       "<div>\n",
       "<style scoped>\n",
       "    .dataframe tbody tr th:only-of-type {\n",
       "        vertical-align: middle;\n",
       "    }\n",
       "\n",
       "    .dataframe tbody tr th {\n",
       "        vertical-align: top;\n",
       "    }\n",
       "\n",
       "    .dataframe thead th {\n",
       "        text-align: right;\n",
       "    }\n",
       "</style>\n",
       "<table border=\"1\" class=\"dataframe\">\n",
       "  <thead>\n",
       "    <tr style=\"text-align: right;\">\n",
       "      <th></th>\n",
       "      <th>coeff</th>\n",
       "      <th>se</th>\n",
       "      <th>t</th>\n",
       "      <th>p&gt;t</th>\n",
       "      <th>CI_low</th>\n",
       "      <th>CI_high</th>\n",
       "    </tr>\n",
       "  </thead>\n",
       "  <tbody>\n",
       "    <tr>\n",
       "      <th>Acquired stake (%)_0_50</th>\n",
       "      <td>13.934524</td>\n",
       "      <td>2.480279</td>\n",
       "      <td>5.618128</td>\n",
       "      <td>0.000012</td>\n",
       "      <td>8.79074</td>\n",
       "      <td>19.078307</td>\n",
       "    </tr>\n",
       "  </tbody>\n",
       "</table>\n",
       "</div>"
      ],
      "text/plain": [
       "                             coeff        se         t       p>t   CI_low  \\\n",
       "Acquired stake (%)_0_50  13.934524  2.480279  5.618128  0.000012  8.79074   \n",
       "\n",
       "                           CI_high  \n",
       "Acquired stake (%)_0_50  19.078307  "
      ]
     },
     "execution_count": 31,
     "metadata": {},
     "output_type": "execute_result"
    }
   ],
   "source": [
    "df = econtools.read(\"H_target_final.csv\")\n",
    "Y = 'r_d_expenses_operating_revenue'\n",
    "X = ['Acquired stake (%)_0_50']\n",
    "#Z = ['Score-protecting minority investors']\n",
    "W = []\n",
    "fe_var = 'countrycode'\n",
    "cluster = 'countrycode'\n",
    "results = mt.reg(df, Y,X, fe_name = fe_var, cluster=cluster)\n",
    "results.summary\n",
    "F1, pF1 = results.Ftest(['Acquired stake (%)_0_50'])\n",
    "print(F1,pF1)\n",
    "results.summary"
   ]
  },
  {
   "cell_type": "markdown",
   "metadata": {},
   "source": [
    "Standar error > coeff, thus the model isn't relevant."
   ]
  },
  {
   "cell_type": "markdown",
   "metadata": {},
   "source": [
    "**Regression 2**: \\\n",
    "table : H_target_final.csv \\\n",
    "Y : 'research_development_expenses' \\\n",
    "X : 'Acquired stake (%)_0_50' (endogenous variable) \\\n",
    "Z : 'Score-protecting minority investors' (IV) \\\n",
    "W : 'ebitda' (exogenous variable) \\\n",
    "fixed effect : 'countrycode' \\\n",
    "cluster : 'countrycode' \\"
   ]
  },
  {
   "cell_type": "code",
   "execution_count": 20,
   "metadata": {},
   "outputs": [
    {
     "data": {
      "text/plain": [
       "=======================================================\n",
       "Dependent variable:\tresearch_development_expenses\n",
       "N:\t\t\t266\n",
       "R-squared:\t\tnan\n",
       "Estimation method:\t2SLS\n",
       "VCE method:\t\tCluster\n",
       "  Cluster variable:\t  countrycode\n",
       "  No. of clusters:\t  21\n",
       "Fixed effects by:\tcountrycode\n",
       "  No. of FE:\t\t  21\n",
       "=======================================================\n",
       "                                  coeff             se      t   p>t          CI_low        CI_high\n",
       "Acquired stake (%)_0_50 -1046464635.234 3076766018.594 -0.340 0.737 -7464486085.810 5371556815.342\n",
       "ebitda                            0.972          2.400  0.405 0.690          -4.036          5.979\n",
       "======================================================="
      ]
     },
     "execution_count": 20,
     "metadata": {},
     "output_type": "execute_result"
    }
   ],
   "source": [
    "df = econtools.read(\"H_target_final.csv\")\n",
    "Y = 'research_development_expenses'\n",
    "X = ['Acquired stake (%)_0_50']\n",
    "Z = ['Score-protecting minority investors']\n",
    "W = ['ebitda']\n",
    "fe_var = 'countrycode'\n",
    "cluster = 'countrycode'\n",
    "\n",
    "results = mt.ivreg(df, Y,X,Z,W, fe_name = fe_var, cluster=cluster)\n",
    "results"
   ]
  },
  {
   "cell_type": "markdown",
   "metadata": {},
   "source": [
    "Standar error > coeff, thus the model isn't relevant."
   ]
  },
  {
   "cell_type": "code",
   "execution_count": 35,
   "metadata": {},
   "outputs": [
    {
     "data": {
      "text/plain": [
       "Index(['countrycode', 'closing_date', 'ebitda',\n",
       "       'r_d_expenses_operating_revenue', 'research_development_expenses',\n",
       "       'number_of_employees', 'Deal value\\nm EUR', 'Acquired stake (%)_0_10',\n",
       "       'Acquired stake (%)_10_20', 'Acquired stake (%)_20_30',\n",
       "       'Acquired stake (%)_30_40', 'Acquired stake (%)_40_50',\n",
       "       'Acquired stake (%)_0_25', 'Acquired stake (%)_25_50',\n",
       "       'Acquired stake (%)_0_50',\n",
       "       'Total deal value for Acquired stake (%)0_10',\n",
       "       'Total deal value for Acquired stake (%)_10_20',\n",
       "       'Total deal value for Acquired stake (%)_20_30',\n",
       "       'Total deal value for Acquired stake (%)_30_40',\n",
       "       'Total deal value for Acquired stake (%)_40_50',\n",
       "       'Total deal value for Acquired stake (%)_0_25',\n",
       "       'Total deal value for Acquired stake (%)_25_50',\n",
       "       'Total deal value for Acquired stake (%)_0_50', 'Final stake (%)_0_10',\n",
       "       'Final stake (%)_10_20', 'Final stake (%)_20_30',\n",
       "       'Final stake (%)_30_40', 'Final stake (%)_40_50',\n",
       "       'Final stake (%)_0_25', 'Final stake (%)_25_50',\n",
       "       'Score-protecting minority investors', 'Reform', 'is_reform'],\n",
       "      dtype='object')"
      ]
     },
     "execution_count": 35,
     "metadata": {},
     "output_type": "execute_result"
    }
   ],
   "source": [
    "df.columns"
   ]
  },
  {
   "cell_type": "code",
   "execution_count": 36,
   "metadata": {},
   "outputs": [
    {
     "name": "stdout",
     "output_type": "stream",
     "text": [
      "0.010627277194787824 0.9189192644889521\n"
     ]
    },
    {
     "data": {
      "text/html": [
       "<div>\n",
       "<style scoped>\n",
       "    .dataframe tbody tr th:only-of-type {\n",
       "        vertical-align: middle;\n",
       "    }\n",
       "\n",
       "    .dataframe tbody tr th {\n",
       "        vertical-align: top;\n",
       "    }\n",
       "\n",
       "    .dataframe thead th {\n",
       "        text-align: right;\n",
       "    }\n",
       "</style>\n",
       "<table border=\"1\" class=\"dataframe\">\n",
       "  <thead>\n",
       "    <tr style=\"text-align: right;\">\n",
       "      <th></th>\n",
       "      <th>coeff</th>\n",
       "      <th>se</th>\n",
       "      <th>t</th>\n",
       "      <th>p&gt;t</th>\n",
       "      <th>CI_low</th>\n",
       "      <th>CI_high</th>\n",
       "    </tr>\n",
       "  </thead>\n",
       "  <tbody>\n",
       "    <tr>\n",
       "      <th>Total deal value for Acquired stake (%)_0_50</th>\n",
       "      <td>-3.216867</td>\n",
       "      <td>31.204845</td>\n",
       "      <td>-0.103089</td>\n",
       "      <td>0.918919</td>\n",
       "      <td>-68.309034</td>\n",
       "      <td>61.8753</td>\n",
       "    </tr>\n",
       "  </tbody>\n",
       "</table>\n",
       "</div>"
      ],
      "text/plain": [
       "                                                 coeff         se         t  \\\n",
       "Total deal value for Acquired stake (%)_0_50 -3.216867  31.204845 -0.103089   \n",
       "\n",
       "                                                   p>t     CI_low  CI_high  \n",
       "Total deal value for Acquired stake (%)_0_50  0.918919 -68.309034  61.8753  "
      ]
     },
     "execution_count": 36,
     "metadata": {},
     "output_type": "execute_result"
    }
   ],
   "source": [
    "df = econtools.read(\"H_target_final.csv\")\n",
    "Y = 'r_d_expenses_operating_revenue'\n",
    "X = ['Total deal value for Acquired stake (%)_0_50']\n",
    "Z = ['Score-protecting minority investors']\n",
    "W = []\n",
    "fe_var = 'countrycode'\n",
    "cluster = 'countrycode'\n",
    "\n",
    "results = mt.ivreg(df, Y,X,Z,W, fe_name = fe_var, cluster=cluster)\n",
    "F1, pF1 = results.Ftest(['Total deal value for Acquired stake (%)_0_50'])\n",
    "print(F1,pF1)\n",
    "results.summary"
   ]
  },
  {
   "cell_type": "code",
   "execution_count": 39,
   "metadata": {},
   "outputs": [
    {
     "name": "stdout",
     "output_type": "stream",
     "text": [
      "1.2561035880552485 0.27566777892489913\n"
     ]
    },
    {
     "data": {
      "text/html": [
       "<div>\n",
       "<style scoped>\n",
       "    .dataframe tbody tr th:only-of-type {\n",
       "        vertical-align: middle;\n",
       "    }\n",
       "\n",
       "    .dataframe tbody tr th {\n",
       "        vertical-align: top;\n",
       "    }\n",
       "\n",
       "    .dataframe thead th {\n",
       "        text-align: right;\n",
       "    }\n",
       "</style>\n",
       "<table border=\"1\" class=\"dataframe\">\n",
       "  <thead>\n",
       "    <tr style=\"text-align: right;\">\n",
       "      <th></th>\n",
       "      <th>coeff</th>\n",
       "      <th>se</th>\n",
       "      <th>t</th>\n",
       "      <th>p&gt;t</th>\n",
       "      <th>CI_low</th>\n",
       "      <th>CI_high</th>\n",
       "    </tr>\n",
       "  </thead>\n",
       "  <tbody>\n",
       "    <tr>\n",
       "      <th>diff_total_deal</th>\n",
       "      <td>0.327764</td>\n",
       "      <td>0.292448</td>\n",
       "      <td>1.12076</td>\n",
       "      <td>0.275668</td>\n",
       "      <td>-0.282271</td>\n",
       "      <td>0.937798</td>\n",
       "    </tr>\n",
       "  </tbody>\n",
       "</table>\n",
       "</div>"
      ],
      "text/plain": [
       "                    coeff        se        t       p>t    CI_low   CI_high\n",
       "diff_total_deal  0.327764  0.292448  1.12076  0.275668 -0.282271  0.937798"
      ]
     },
     "execution_count": 39,
     "metadata": {},
     "output_type": "execute_result"
    }
   ],
   "source": [
    "df = econtools.read(\"new_H_target_final.csv\")\n",
    "Y = 'r_d_expenses_operating_revenue'\n",
    "X = ['diff_total_deal']\n",
    "Z = ['Score-protecting minority investors']\n",
    "W = []\n",
    "fe_var = 'countrycode'\n",
    "cluster = 'countrycode'\n",
    "\n",
    "results = mt.ivreg(df, Y,X,Z,W, fe_name = fe_var, cluster=cluster)\n",
    "F1, pF1 = results.Ftest(['diff_total_deal'])\n",
    "print(F1,pF1)\n",
    "results.summary"
   ]
  },
  {
   "cell_type": "code",
   "execution_count": 40,
   "metadata": {},
   "outputs": [
    {
     "data": {
      "text/plain": [
       "Index(['Unnamed: 0', 'countrycode', 'closing_date', 'ebitda',\n",
       "       'r_d_expenses_operating_revenue', 'research_development_expenses',\n",
       "       'number_of_employees', 'Deal value\\nm EUR', 'Acquired stake (%)_0_10',\n",
       "       'Acquired stake (%)_10_20', 'Acquired stake (%)_20_30',\n",
       "       'Acquired stake (%)_30_40', 'Acquired stake (%)_40_50',\n",
       "       'Acquired stake (%)_0_25', 'Acquired stake (%)_25_50',\n",
       "       'Acquired stake (%)_0_50',\n",
       "       'Total deal value for Acquired stake (%)0_10',\n",
       "       'Total deal value for Acquired stake (%)_10_20',\n",
       "       'Total deal value for Acquired stake (%)_20_30',\n",
       "       'Total deal value for Acquired stake (%)_30_40',\n",
       "       'Total deal value for Acquired stake (%)_40_50',\n",
       "       'Total deal value for Acquired stake (%)_0_25',\n",
       "       'Total deal value for Acquired stake (%)_25_50',\n",
       "       'Total deal value for Acquired stake (%)_0_50', 'Final stake (%)_0_10',\n",
       "       'Final stake (%)_10_20', 'Final stake (%)_20_30',\n",
       "       'Final stake (%)_30_40', 'Final stake (%)_40_50',\n",
       "       'Final stake (%)_0_25', 'Final stake (%)_25_50',\n",
       "       'Score-protecting minority investors', 'Reform', 'is_reform',\n",
       "       'diff_total_deal'],\n",
       "      dtype='object')"
      ]
     },
     "execution_count": 40,
     "metadata": {},
     "output_type": "execute_result"
    }
   ],
   "source": [
    "df = econtools.read(\"new_H_target_final.csv\")\n",
    "df.columns"
   ]
  },
  {
   "cell_type": "code",
   "execution_count": null,
   "metadata": {},
   "outputs": [],
   "source": []
  }
 ],
 "metadata": {
  "kernelspec": {
   "display_name": "Python 3.9.12 ('base')",
   "language": "python",
   "name": "python3"
  },
  "language_info": {
   "codemirror_mode": {
    "name": "ipython",
    "version": 3
   },
   "file_extension": ".py",
   "mimetype": "text/x-python",
   "name": "python",
   "nbconvert_exporter": "python",
   "pygments_lexer": "ipython3",
   "version": "3.9.12"
  },
  "orig_nbformat": 4,
  "vscode": {
   "interpreter": {
    "hash": "3d597f4c481aa0f25dceb95d2a0067e73c0966dcbd003d741d821a7208527ecf"
   }
  }
 },
 "nbformat": 4,
 "nbformat_minor": 2
}
